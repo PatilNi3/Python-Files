{
 "cells": [
  {
   "cell_type": "markdown",
   "metadata": {},
   "source": [
    "### What is Data Structure?\n",
    "\n",
    "Organizing managing and storing data is important as it enables eaasier access and efficient modification. Data Structures allow you to organize your data in such a way that enables you to store collections of data, relate them and perform operations on them accordingly. \n",
    "\n",
    "##### Types of Data Structures in Python:\n",
    "1. List\n",
    "2. Tuple\n",
    "3. String\n",
    "4. Dictionary\n",
    "5. Set\n",
    "6. Frozen Set"
   ]
  },
  {
   "cell_type": "markdown",
   "metadata": {},
   "source": [
    "# List\n",
    "\n",
    "List is one of the built-in data types used to store an ordered collection of items. Lists are mutable, meaning that you can change their content (add, remove or modify items) after they are created. Lists can contain elements of any type including numbers, strings, or even other lists."
   ]
  },
  {
   "cell_type": "markdown",
   "metadata": {},
   "source": [
    "### Characteristics of List:\n",
    "\n",
    "**1. Ordered:** The items in a list have a defined order and that order will not change unless you explicitly reorder the list.\n",
    "\n",
    "**2. Mutable:** You can modify the contents of a list after it is created.\n",
    "\n",
    "**3. Indexed:** List elements can be accessed using zero based indexing.\n",
    "\n",
    "**4. Heterogeneous:** List can hold items of different types (e.g., integers, strings, booleans).\n",
    "\n",
    "**5. Duplicates are Allowed:** List can contain multiple occurrences of the same element."
   ]
  },
  {
   "cell_type": "markdown",
   "metadata": {},
   "source": [
    "### Creating List:\n",
    "\n",
    "You can create a list by enclosing elements in square brackets [], with elements separated by comma."
   ]
  },
  {
   "cell_type": "code",
   "execution_count": 100,
   "metadata": {},
   "outputs": [],
   "source": [
    "my_list = [1, 2, \"Yes\", 'No', True, False, 5.5, 25.5]"
   ]
  },
  {
   "cell_type": "markdown",
   "metadata": {},
   "source": [
    "### List Operations: Adding Elements"
   ]
  },
  {
   "cell_type": "markdown",
   "metadata": {},
   "source": [
    "### insert(i, x): \n",
    "\n",
    "Insert an item(x) at a desired location using index number(i)."
   ]
  },
  {
   "cell_type": "code",
   "execution_count": 101,
   "metadata": {},
   "outputs": [],
   "source": [
    "L1 = [\"Python\", 555, \"Java\", 777, 'HTML', 'CSS', 'PHP', 'JavaScript']"
   ]
  },
  {
   "cell_type": "code",
   "execution_count": 102,
   "metadata": {},
   "outputs": [
    {
     "name": "stdout",
     "output_type": "stream",
     "text": [
      "['Python', 555, 'Scala', 'Java', 777, 'HTML', 'CSS', 'PHP', 'JavaScript']\n"
     ]
    }
   ],
   "source": [
    "L1.insert(2, 'Scala')\n",
    "print(L1)"
   ]
  },
  {
   "cell_type": "code",
   "execution_count": 103,
   "metadata": {},
   "outputs": [
    {
     "name": "stdout",
     "output_type": "stream",
     "text": [
      "['Python', 555, 'Scala', 'Java', 777, 'HTML', 'CSS', 25, 'PHP', 'JavaScript']\n"
     ]
    }
   ],
   "source": [
    "L1.insert(7, 25)\n",
    "print(L1)"
   ]
  },
  {
   "cell_type": "code",
   "execution_count": 104,
   "metadata": {},
   "outputs": [
    {
     "name": "stdout",
     "output_type": "stream",
     "text": [
      "['Python', 555, 'Scala', 'Java', 777, 'HTML', 'CSS', 25, 'PHP', True, 'JavaScript']\n"
     ]
    }
   ],
   "source": [
    "L1.insert(-1, True)\n",
    "print(L1)"
   ]
  },
  {
   "cell_type": "code",
   "execution_count": 105,
   "metadata": {},
   "outputs": [
    {
     "name": "stdout",
     "output_type": "stream",
     "text": [
      "['Python', 555, 'Scala', 'Java', 777, 'HTML', 'CSS', 25, 'PHP', True, 'JavaScript', False]\n"
     ]
    }
   ],
   "source": [
    "# inserting item at the end of the list\n",
    "\n",
    "L1.insert(len(L1), False)\n",
    "print(L1)"
   ]
  },
  {
   "cell_type": "code",
   "execution_count": 106,
   "metadata": {},
   "outputs": [
    {
     "name": "stdout",
     "output_type": "stream",
     "text": [
      "[[1, 1.2, 'String', True, None], 'Python', 555, 'Scala', 'Java', 777, 'HTML', 'CSS', 25, 'PHP', True, 'JavaScript', False]\n"
     ]
    }
   ],
   "source": [
    "# Nested lst using index\n",
    "\n",
    "L1.insert(0, [1, 1.2, 'String', True, None])\n",
    "print(L1)"
   ]
  },
  {
   "cell_type": "markdown",
   "metadata": {},
   "source": [
    "### append(x):\n",
    "\n",
    "Add/append an item(x) at the end of the list."
   ]
  },
  {
   "cell_type": "code",
   "execution_count": 107,
   "metadata": {},
   "outputs": [],
   "source": [
    "L2 = [\"Python\", \"Selenium\", \"Java\"]"
   ]
  },
  {
   "cell_type": "code",
   "execution_count": 108,
   "metadata": {},
   "outputs": [
    {
     "name": "stdout",
     "output_type": "stream",
     "text": [
      "['Python', 'Selenium', 'Java', 7]\n"
     ]
    }
   ],
   "source": [
    "# append an integer\n",
    "\n",
    "L2.append(7)\n",
    "print(L2)"
   ]
  },
  {
   "cell_type": "code",
   "execution_count": 109,
   "metadata": {},
   "outputs": [
    {
     "name": "stdout",
     "output_type": "stream",
     "text": [
      "['Python', 'Selenium', 'Java', 7, 'sql']\n"
     ]
    }
   ],
   "source": [
    "# append a string\n",
    "\n",
    "L2.append(\"sql\")\n",
    "print(L2)"
   ]
  },
  {
   "cell_type": "code",
   "execution_count": 110,
   "metadata": {},
   "outputs": [
    {
     "name": "stdout",
     "output_type": "stream",
     "text": [
      "['Python', 'Selenium', 'Java', 7, 'sql', True]\n"
     ]
    }
   ],
   "source": [
    "# append a boolean value\n",
    "\n",
    "L2.append(True)\n",
    "print(L2)"
   ]
  },
  {
   "cell_type": "code",
   "execution_count": 111,
   "metadata": {},
   "outputs": [
    {
     "name": "stdout",
     "output_type": "stream",
     "text": [
      "['Python', 'Selenium', 'Java', 7, 'sql', True, [1, 2, 3]]\n"
     ]
    }
   ],
   "source": [
    "# append list with a list\n",
    "\n",
    "L2.append([1, 2, 3])\n",
    "print(L2)"
   ]
  },
  {
   "cell_type": "code",
   "execution_count": 112,
   "metadata": {},
   "outputs": [
    {
     "ename": "TypeError",
     "evalue": "list.append() takes exactly one argument (6 given)",
     "output_type": "error",
     "traceback": [
      "\u001b[1;31m---------------------------------------------------------------------------\u001b[0m",
      "\u001b[1;31mTypeError\u001b[0m                                 Traceback (most recent call last)",
      "Cell \u001b[1;32mIn[112], line 3\u001b[0m\n\u001b[0;32m      1\u001b[0m \u001b[38;5;66;03m# we can not append multiple items in the list at the same time\u001b[39;00m\n\u001b[1;32m----> 3\u001b[0m \u001b[43mL2\u001b[49m\u001b[38;5;241;43m.\u001b[39;49m\u001b[43mappend\u001b[49m\u001b[43m(\u001b[49m\u001b[38;5;28;43;01mTrue\u001b[39;49;00m\u001b[43m,\u001b[49m\u001b[43m \u001b[49m\u001b[38;5;28;43;01mFalse\u001b[39;49;00m\u001b[43m,\u001b[49m\u001b[43m \u001b[49m\u001b[38;5;124;43m'\u001b[39;49m\u001b[38;5;124;43mYes\u001b[39;49m\u001b[38;5;124;43m'\u001b[39;49m\u001b[43m,\u001b[49m\u001b[43m \u001b[49m\u001b[38;5;124;43m'\u001b[39;49m\u001b[38;5;124;43mNo\u001b[39;49m\u001b[38;5;124;43m'\u001b[39;49m\u001b[43m,\u001b[49m\u001b[43m \u001b[49m\u001b[38;5;241;43m0\u001b[39;49m\u001b[43m,\u001b[49m\u001b[43m \u001b[49m\u001b[38;5;241;43m5.5\u001b[39;49m\u001b[43m)\u001b[49m\n\u001b[0;32m      4\u001b[0m \u001b[38;5;28mprint\u001b[39m(L2)\n\u001b[0;32m      6\u001b[0m \u001b[38;5;66;03m# to handle this we will use Python's extend method\u001b[39;00m\n",
      "\u001b[1;31mTypeError\u001b[0m: list.append() takes exactly one argument (6 given)"
     ]
    }
   ],
   "source": [
    "# we can not append multiple items in the list at the same time\n",
    "\n",
    "L2.append(True, False, 'Yes', 'No', 0, 5.5)\n",
    "print(L2)\n",
    "\n",
    "# to handle this we will use Python's extend method"
   ]
  },
  {
   "cell_type": "markdown",
   "metadata": {},
   "source": [
    "### extend(x):\n",
    "\n",
    "Add the multiple items(x) at a time at the end of the list."
   ]
  },
  {
   "cell_type": "code",
   "execution_count": null,
   "metadata": {},
   "outputs": [],
   "source": [
    "L3 = [555, 'Scala', 'Java', 777, 'HTML', 'CSS', 25]"
   ]
  },
  {
   "cell_type": "code",
   "execution_count": null,
   "metadata": {},
   "outputs": [
    {
     "name": "stdout",
     "output_type": "stream",
     "text": [
      "[555, 'Scala', 'Java', 777, 'HTML', 'CSS', 25, 1]\n"
     ]
    }
   ],
   "source": [
    "# extend with single item\n",
    "\n",
    "L3.extend([1])\n",
    "print(L3)"
   ]
  },
  {
   "cell_type": "code",
   "execution_count": null,
   "metadata": {},
   "outputs": [
    {
     "name": "stdout",
     "output_type": "stream",
     "text": [
      "[555, 'Scala', 'Java', 777, 'HTML', 'CSS', 25, 1, 2, 4, 'Two', 'Four', True, False]\n"
     ]
    }
   ],
   "source": [
    "# extend with multiple items\n",
    "\n",
    "L3.extend([2, 4, 'Two', 'Four', True, False])\n",
    "print(L3)"
   ]
  },
  {
   "cell_type": "code",
   "execution_count": null,
   "metadata": {},
   "outputs": [
    {
     "name": "stdout",
     "output_type": "stream",
     "text": [
      "[555, 'Scala', 'Java', 777, 'HTML', 'CSS', 25, 1, 2, 4, 'Two', 'Four', True, False, 'O', 'K']\n"
     ]
    }
   ],
   "source": [
    "# extend with string\n",
    "\n",
    "L3.extend(\"OK\")\n",
    "print(L3)"
   ]
  },
  {
   "cell_type": "code",
   "execution_count": null,
   "metadata": {},
   "outputs": [
    {
     "name": "stdout",
     "output_type": "stream",
     "text": [
      "[555, 'Scala', 'Java', 777, 'HTML', 'CSS', 25, 1, 2, 4, 'Two', 'Four', True, False, 'O', 'K', 'OK']\n"
     ]
    }
   ],
   "source": [
    "# extend with string in proper way\n",
    "\n",
    "L3.extend([\"OK\"])\n",
    "print(L3)"
   ]
  },
  {
   "cell_type": "code",
   "execution_count": null,
   "metadata": {},
   "outputs": [
    {
     "name": "stdout",
     "output_type": "stream",
     "text": [
      "[555, 'Scala', 'Java', 777, 'HTML', 'CSS', 25, 1, 2, 4, 'Two', 'Four', True, False, 'O', 'K', 'OK', 'Python', 'Selenium', 'Java', 7, True, 'sql', [1, 2, 3]]\n"
     ]
    }
   ],
   "source": [
    "# extend list with existing list\n",
    "\n",
    "L3.extend(L2)\n",
    "print(L3)"
   ]
  },
  {
   "cell_type": "code",
   "execution_count": null,
   "metadata": {},
   "outputs": [
    {
     "name": "stdout",
     "output_type": "stream",
     "text": [
      "[555, 'Scala', 'Java', 777, 'HTML', 'CSS', 25, 1, 2, 4, 'Two', 'Four', True, False, 'O', 'K', 'OK', 'Python', 'Selenium', 'Java', 7, True, 'sql', [1, 2, 3], [1, 2, 3], [5.5, 25.5, 555.5], ['Yes', 'No'], [True, False]]\n"
     ]
    }
   ],
   "source": [
    "# extend list with nested list\n",
    "\n",
    "nested_list = [[1, 2, 3], [5.5, 25.5, 555.5], [\"Yes\", \"No\"], [True, False]]\n",
    "\n",
    "L3.extend(nested_list)\n",
    "print(L3)"
   ]
  },
  {
   "cell_type": "markdown",
   "metadata": {},
   "source": [
    "### List Operations: Deleting Elements"
   ]
  },
  {
   "cell_type": "markdown",
   "metadata": {},
   "source": [
    "### remove(x):\n",
    "\n",
    "Remove/delete 1 item(x) from a list."
   ]
  },
  {
   "cell_type": "code",
   "execution_count": null,
   "metadata": {},
   "outputs": [],
   "source": [
    "L4 = [555, 'Scala', 'Java', 777, 'HTML', 'CSS', 25, 1, 2, 4, 'Two', 'Four', True, False, 'O', 'K', 'OK', 'Python', 'Selenium', 'Java', 7, True, 'sql', [1, 2, 3], [1, 2, 3], [5.5, 25.5, 555.5], ['Yes', 'No'], [True, False]]"
   ]
  },
  {
   "cell_type": "code",
   "execution_count": null,
   "metadata": {},
   "outputs": [
    {
     "name": "stdout",
     "output_type": "stream",
     "text": [
      "Length of the list before removing item: 28\n",
      "[555, 'Scala', 'Java', 777, 'HTML', 'CSS', 25, 1, 4, 'Two', 'Four', True, False, 'O', 'K', 'OK', 'Python', 'Selenium', 'Java', 7, True, 'sql', [1, 2, 3], [1, 2, 3], [5.5, 25.5, 555.5], ['Yes', 'No'], [True, False]]\n",
      "Length of the list after removing item: 27\n"
     ]
    }
   ],
   "source": [
    "# remove simple integer item\n",
    "\n",
    "print(\"Length of the list before removing item:\", len(L4))\n",
    "\n",
    "L4.remove(2)\n",
    "print(L4)\n",
    "\n",
    "print(\"Length of the list after removing item:\", len(L4))"
   ]
  },
  {
   "cell_type": "code",
   "execution_count": null,
   "metadata": {},
   "outputs": [
    {
     "name": "stdout",
     "output_type": "stream",
     "text": [
      "[555, 'Scala', 777, 'HTML', 'CSS', 25, 1, 4, 'Two', 'Four', True, False, 'O', 'K', 'OK', 'Python', 'Selenium', 'Java', 7, True, 'sql', [1, 2, 3], [1, 2, 3], [5.5, 25.5, 555.5], ['Yes', 'No'], [True, False]]\n"
     ]
    }
   ],
   "source": [
    "# remove string item from a list \n",
    "\n",
    "L4.remove(\"Java\")\n",
    "print(L4)\n",
    "\n",
    "# in our list we have two occurrences of \"Java\", but remove will delete the first occurrence of it."
   ]
  },
  {
   "cell_type": "code",
   "execution_count": null,
   "metadata": {},
   "outputs": [
    {
     "name": "stdout",
     "output_type": "stream",
     "text": [
      "[555, 'Scala', 777, 'HTML', 'CSS', 25, 1, 4, 'Two', 'Four', True, False, 'O', 'K', 'OK', 'Python', 'Selenium', 'Java', 7, True, 'sql', [1, 2, 3], [1, 2, 3], ['Yes', 'No'], [True, False]]\n"
     ]
    }
   ],
   "source": [
    "# remove nested list item from a list\n",
    "\n",
    "L4.remove([5.5, 25.5, 555.5])\n",
    "print(L4)"
   ]
  },
  {
   "cell_type": "code",
   "execution_count": null,
   "metadata": {},
   "outputs": [
    {
     "ename": "ValueError",
     "evalue": "list.remove(x): x not in list",
     "output_type": "error",
     "traceback": [
      "\u001b[1;31m---------------------------------------------------------------------------\u001b[0m",
      "\u001b[1;31mValueError\u001b[0m                                Traceback (most recent call last)",
      "Cell \u001b[1;32mIn[67], line 3\u001b[0m\n\u001b[0;32m      1\u001b[0m \u001b[38;5;66;03m# remove item from a list which doesn't exists\u001b[39;00m\n\u001b[1;32m----> 3\u001b[0m \u001b[43mL4\u001b[49m\u001b[38;5;241;43m.\u001b[39;49m\u001b[43mremove\u001b[49m\u001b[43m(\u001b[49m\u001b[38;5;124;43m\"\u001b[39;49m\u001b[38;5;124;43mCode\u001b[39;49m\u001b[38;5;124;43m\"\u001b[39;49m\u001b[43m)\u001b[49m\n\u001b[0;32m      4\u001b[0m \u001b[38;5;28mprint\u001b[39m(L4)\n",
      "\u001b[1;31mValueError\u001b[0m: list.remove(x): x not in list"
     ]
    }
   ],
   "source": [
    "# remove item from a list which doesn't exists\n",
    "\n",
    "L4.remove(\"Code\")\n",
    "print(L4)"
   ]
  },
  {
   "cell_type": "markdown",
   "metadata": {},
   "source": [
    "### pop(i):\n",
    "\n",
    "Remove/delete a item at given index(i) from a list."
   ]
  },
  {
   "cell_type": "code",
   "execution_count": null,
   "metadata": {},
   "outputs": [],
   "source": [
    "L5 = ['Python', 'Selenium', [True, False], 'Java', 7, True, 'sql', [1, 2, 3]]"
   ]
  },
  {
   "cell_type": "code",
   "execution_count": null,
   "metadata": {},
   "outputs": [
    {
     "name": "stdout",
     "output_type": "stream",
     "text": [
      "['Python', [True, False], 'Java', 7, True, 'sql', [1, 2, 3]]\n"
     ]
    }
   ],
   "source": [
    "# pop/delete item from specific index position\n",
    "\n",
    "L5.pop(1)\n",
    "print(L5)"
   ]
  },
  {
   "cell_type": "code",
   "execution_count": null,
   "metadata": {},
   "outputs": [
    {
     "name": "stdout",
     "output_type": "stream",
     "text": [
      "['Python', [True, False], 'Java', 7, True, 'sql']\n"
     ]
    }
   ],
   "source": [
    "# pop/delete last item from a list (it works on Last-In-First-Out (LIFO) principle).\n",
    "\n",
    "L5.pop()\n",
    "print(L5)"
   ]
  },
  {
   "cell_type": "code",
   "execution_count": null,
   "metadata": {},
   "outputs": [
    {
     "name": "stdout",
     "output_type": "stream",
     "text": [
      "['Python', [True, False], 'Java', 7, True]\n"
     ]
    }
   ],
   "source": [
    "# pop/delete last item from a list\n",
    "\n",
    "L5.pop(len(L5)-1)\n",
    "print(L5)"
   ]
  },
  {
   "cell_type": "code",
   "execution_count": null,
   "metadata": {},
   "outputs": [
    {
     "name": "stdout",
     "output_type": "stream",
     "text": [
      "['Python', 'Java', 7, True]\n"
     ]
    }
   ],
   "source": [
    "# pop/delete list from a nested list\n",
    "\n",
    "L5.pop(1)\n",
    "print(L5)"
   ]
  },
  {
   "cell_type": "code",
   "execution_count": null,
   "metadata": {},
   "outputs": [
    {
     "ename": "IndexError",
     "evalue": "pop index out of range",
     "output_type": "error",
     "traceback": [
      "\u001b[1;31m---------------------------------------------------------------------------\u001b[0m",
      "\u001b[1;31mIndexError\u001b[0m                                Traceback (most recent call last)",
      "Cell \u001b[1;32mIn[79], line 3\u001b[0m\n\u001b[0;32m      1\u001b[0m \u001b[38;5;66;03m# pop/delete out-of-range index\u001b[39;00m\n\u001b[1;32m----> 3\u001b[0m \u001b[43mL5\u001b[49m\u001b[38;5;241;43m.\u001b[39;49m\u001b[43mpop\u001b[49m\u001b[43m(\u001b[49m\u001b[38;5;241;43m10\u001b[39;49m\u001b[43m)\u001b[49m      \u001b[38;5;66;03m# or try: L5.pop(len(L5))\u001b[39;00m\n\u001b[0;32m      4\u001b[0m \u001b[38;5;28mprint\u001b[39m(L5)\n",
      "\u001b[1;31mIndexError\u001b[0m: pop index out of range"
     ]
    }
   ],
   "source": [
    "# pop/delete out-of-range index\n",
    "\n",
    "L5.pop(10)      # or try: L5.pop(len(L5))\n",
    "print(L5)"
   ]
  },
  {
   "cell_type": "markdown",
   "metadata": {},
   "source": [
    "### List Operations: Accessing Elements"
   ]
  },
  {
   "cell_type": "markdown",
   "metadata": {},
   "source": [
    "### slicing:\n",
    "\n",
    "Python slicing is a powerful feature that allows you to access a subset or portion of a sequence (like a list, string, tuple, or other iterable) without modifying the original sequence. It allows you to extract a range of elements from a sequence by specifying start, stop, and step values."
   ]
  },
  {
   "cell_type": "code",
   "execution_count": null,
   "metadata": {},
   "outputs": [],
   "source": [
    "L6 = ['Python', 7, True, [1, 2, 3], [5.5, 25.5, 555.5], ['Yes', 'No'], [True, ['AI', 'ML', ['Data Analysis', \"Data Science\"], 'DL', ['NLP']], False]]\n"
   ]
  },
  {
   "cell_type": "code",
   "execution_count": null,
   "metadata": {},
   "outputs": [
    {
     "name": "stdout",
     "output_type": "stream",
     "text": [
      "7\n",
      "[1, 2, 3]\n",
      "[True, False]\n",
      "[True, False]\n"
     ]
    }
   ],
   "source": [
    "print(L6[1])\n",
    "print(L6[3])\n",
    "print(L6[len(L6)-1])\n",
    "print(L6[-1])"
   ]
  },
  {
   "cell_type": "code",
   "execution_count": null,
   "metadata": {},
   "outputs": [
    {
     "name": "stdout",
     "output_type": "stream",
     "text": [
      "['Python', 7, True, [1, 2, 3], [5.5, 25.5, 555.5], ['Yes', 'No'], [True, False]]\n",
      "--------------------------------------------------------------------------------\n",
      "['Python', 7, True]\n",
      "--------------------------------------------------------------------------------\n",
      "[[1, 2, 3], [5.5, 25.5, 555.5], ['Yes', 'No'], [True, False]]\n",
      "--------------------------------------------------------------------------------\n",
      "[True, [1, 2, 3], [5.5, 25.5, 555.5], ['Yes', 'No']]\n",
      "--------------------------------------------------------------------------------\n",
      "[['Yes', 'No'], [True, False]]\n"
     ]
    }
   ],
   "source": [
    "# Slicing with Start and Stop \n",
    "\n",
    "print(L6[:])\n",
    "print(\"--------------------------------------------------------------------------------\")\n",
    "print(L6[:3])\n",
    "print(\"--------------------------------------------------------------------------------\")\n",
    "print(L6[3:])\n",
    "print(\"--------------------------------------------------------------------------------\")\n",
    "print(L6[2:6])\n",
    "print(\"--------------------------------------------------------------------------------\")\n",
    "print(L6[-2:])"
   ]
  },
  {
   "cell_type": "code",
   "execution_count": null,
   "metadata": {},
   "outputs": [
    {
     "name": "stdout",
     "output_type": "stream",
     "text": [
      "Full List: ['Python', 7, True, [1, 2, 3], [5.5, 25.5, 555.5], ['Yes', 'No'], [True, False]]\n",
      "--------------------------------------------------------------------------------\n",
      "Alternate List Items: ['Python', True, [5.5, 25.5, 555.5], [True, False]]\n",
      "--------------------------------------------------------------------------------\n",
      "Reversed List: [[True, False], ['Yes', 'No'], [5.5, 25.5, 555.5], [1, 2, 3], True, 7, 'Python']\n",
      "--------------------------------------------------------------------------------\n",
      "Reversed Alternate List Items: [[True, False], [5.5, 25.5, 555.5], True, 'Python']\n",
      "--------------------------------------------------------------------------------\n",
      "[True, [5.5, 25.5, 555.5], [True, False]]\n"
     ]
    }
   ],
   "source": [
    "# Slicing with Start, Stop and Step\n",
    "\n",
    "print(\"Full List:\", L6[::])\n",
    "print(\"--------------------------------------------------------------------------------\")\n",
    "print(\"Alternate List Items:\", L6[0:8:2])\n",
    "print(\"--------------------------------------------------------------------------------\")\n",
    "print(\"Reversed List:\", L6[::-1])\n",
    "print(\"--------------------------------------------------------------------------------\")\n",
    "print(\"Reversed Alternate List Items:\", L6[::-2])\n",
    "print(\"--------------------------------------------------------------------------------\")\n",
    "print(L6[2:8:2])"
   ]
  },
  {
   "cell_type": "code",
   "execution_count": null,
   "metadata": {},
   "outputs": [
    {
     "name": "stdout",
     "output_type": "stream",
     "text": [
      "Fetch item 25.5: 25.5\n",
      "--------------------------------------------------------------------------------\n",
      "Fetch item 'ML': ML\n",
      "--------------------------------------------------------------------------------\n",
      "Fetch item 'Data Science': Data Science\n",
      "--------------------------------------------------------------------------------\n",
      "Fetch item 'NLP: NLP\n"
     ]
    }
   ],
   "source": [
    "# Slicing of Nested List\n",
    "\n",
    "print(\"Fetch item 25.5:\", L6[4][1])\n",
    "print(\"--------------------------------------------------------------------------------\")\n",
    "print(\"Fetch item 'ML':\", L6[6][1][1])\n",
    "print(\"--------------------------------------------------------------------------------\")\n",
    "print(\"Fetch item 'Data Science':\", L6[6][1][2][1])\n",
    "print(\"--------------------------------------------------------------------------------\")\n",
    "print(\"Fetch item 'NLP:\", L6[6][1][4][0])"
   ]
  },
  {
   "cell_type": "markdown",
   "metadata": {},
   "source": [
    "### index(x):\n",
    "\n",
    "The .index(x) method in Python is used to find the index of the first occurrence of a specified value(x) in a list (or other iterable, like a string or tuple). If the value is not found, it raises a ValueError."
   ]
  },
  {
   "cell_type": "code",
   "execution_count": 2,
   "metadata": {},
   "outputs": [],
   "source": [
    "L7 = [555, 'Scala', 'Java', 777, 'HTML', 'CSS', 25, 1, 2, 4, 'Two', 'Four', True, False, 'O', 'K', 'OK', 'Python', 'Selenium', 'Java', 7, True, 'sql', [1, 2, 3], [1, 2, 3], [5.5, 25.5, 555.5], ['Yes', 'No'], [True, False]]"
   ]
  },
  {
   "cell_type": "code",
   "execution_count": null,
   "metadata": {},
   "outputs": [
    {
     "data": {
      "text/plain": [
       "3"
      ]
     },
     "execution_count": 109,
     "metadata": {},
     "output_type": "execute_result"
    }
   ],
   "source": [
    "# fetch index number of integer\n",
    " \n",
    "L7.index(777)"
   ]
  },
  {
   "cell_type": "code",
   "execution_count": null,
   "metadata": {},
   "outputs": [
    {
     "data": {
      "text/plain": [
       "17"
      ]
     },
     "execution_count": 111,
     "metadata": {},
     "output_type": "execute_result"
    }
   ],
   "source": [
    "# fetch index number of string\n",
    "\n",
    "L7.index('Python')"
   ]
  },
  {
   "cell_type": "code",
   "execution_count": null,
   "metadata": {},
   "outputs": [
    {
     "data": {
      "text/plain": [
       "7"
      ]
     },
     "execution_count": 112,
     "metadata": {},
     "output_type": "execute_result"
    }
   ],
   "source": [
    "# fetch index number of boolean\n",
    "\n",
    "L7.index(True)"
   ]
  },
  {
   "cell_type": "code",
   "execution_count": null,
   "metadata": {},
   "outputs": [
    {
     "data": {
      "text/plain": [
       "27"
      ]
     },
     "execution_count": 114,
     "metadata": {},
     "output_type": "execute_result"
    }
   ],
   "source": [
    "# fetch index number of list inside list\n",
    "\n",
    "L7.index([True, False])"
   ]
  },
  {
   "cell_type": "code",
   "execution_count": 3,
   "metadata": {},
   "outputs": [
    {
     "name": "stdout",
     "output_type": "stream",
     "text": [
      "21\n",
      "The method starts searching from index 15, so it finds the second occurrence of 'True' at index 21.\n"
     ]
    }
   ],
   "source": [
    "# index with start\n",
    "# find the index of item \"True\", starting the search from index 15\n",
    "\n",
    "print(L7.index(True, 15))\n",
    "\n",
    "print(\"The method starts searching from index 15, so it finds the second occurrence of 'True' at index 21.\")"
   ]
  },
  {
   "cell_type": "code",
   "execution_count": null,
   "metadata": {},
   "outputs": [
    {
     "name": "stdout",
     "output_type": "stream",
     "text": [
      "12\n",
      "The search starts at index 10 and ends at index 20(excluding), and it finds the first occurrence of 'True' at index 12.\n"
     ]
    }
   ],
   "source": [
    "# index with start and stop\n",
    "\n",
    "print(L7.index(True, 10, 20))\n",
    "\n",
    "print(\"The search starts at index 10 and ends at index 20(excluding), and it finds the first occurrence of 'True' at index 12.\")"
   ]
  },
  {
   "cell_type": "code",
   "execution_count": null,
   "metadata": {},
   "outputs": [
    {
     "ename": "ValueError",
     "evalue": "'AI' is not in list",
     "output_type": "error",
     "traceback": [
      "\u001b[1;31m---------------------------------------------------------------------------\u001b[0m",
      "\u001b[1;31mValueError\u001b[0m                                Traceback (most recent call last)",
      "Cell \u001b[1;32mIn[142], line 3\u001b[0m\n\u001b[0;32m      1\u001b[0m \u001b[38;5;66;03m# when item not found\u001b[39;00m\n\u001b[1;32m----> 3\u001b[0m \u001b[43mL7\u001b[49m\u001b[38;5;241;43m.\u001b[39;49m\u001b[43mindex\u001b[49m\u001b[43m(\u001b[49m\u001b[38;5;124;43m\"\u001b[39;49m\u001b[38;5;124;43mAI\u001b[39;49m\u001b[38;5;124;43m\"\u001b[39;49m\u001b[43m)\u001b[49m\n",
      "\u001b[1;31mValueError\u001b[0m: 'AI' is not in list"
     ]
    }
   ],
   "source": [
    "# when item not found\n",
    "\n",
    "L7.index(\"AI\")"
   ]
  },
  {
   "cell_type": "markdown",
   "metadata": {},
   "source": [
    "### count(x):\n",
    "\n",
    "Return the number of times x appears in the list."
   ]
  },
  {
   "cell_type": "code",
   "execution_count": null,
   "metadata": {},
   "outputs": [],
   "source": [
    "L8 = [1,2,3,True,5,0,5.5,'ML',5,1,3,9,0,True,4,6,2,'ML',1,5,8,0,True,9,0,'ML',8,6,5,4,'ML',7,9,True,4,6,8,3,'ML',0]\n",
    "L9 = \"Python is Programming Language\""
   ]
  },
  {
   "cell_type": "code",
   "execution_count": null,
   "metadata": {},
   "outputs": [
    {
     "name": "stdout",
     "output_type": "stream",
     "text": [
      "Count of Five: 4\n",
      "--------------------------------------------------------------------------------\n",
      "Count of string 'ML': 5\n",
      "--------------------------------------------------------------------------------\n",
      "Count of True: 7\n",
      "--------------------------------------------------------------------------------\n",
      "Count of 5 between index 3 and 15:  2\n"
     ]
    }
   ],
   "source": [
    "print(\"Count of Five:\", L8.count(5))\n",
    "print(\"--------------------------------------------------------------------------------\")\n",
    "print(\"Count of string 'ML':\", L8.count('ML'))\n",
    "print(\"--------------------------------------------------------------------------------\")\n",
    "print(\"Count of True:\", L8.count(True))\n",
    "print(\"--------------------------------------------------------------------------------\")\n",
    "print(\"Count of 5 between index 3 and 15: \", L8[3:15].count(5))"
   ]
  },
  {
   "cell_type": "code",
   "execution_count": null,
   "metadata": {},
   "outputs": [
    {
     "name": "stdout",
     "output_type": "stream",
     "text": [
      "Count of 'a': 3\n",
      "--------------------------------------------------------------------------------\n",
      "Count of blank spaces ' ': 3\n",
      "--------------------------------------------------------------------------------\n",
      "Count of substring 'age': 1\n"
     ]
    }
   ],
   "source": [
    "print(\"Count of 'a':\", L9.count('a'))\n",
    "print(\"--------------------------------------------------------------------------------\")\n",
    "print(\"Count of blank spaces ' ':\", L9.count(' '))\n",
    "print(\"--------------------------------------------------------------------------------\")\n",
    "print(\"Count of substring 'age':\", L9.count('age'))"
   ]
  },
  {
   "cell_type": "markdown",
   "metadata": {},
   "source": [
    "### sort():\n",
    "\n",
    "Sort a list in ascending(default) order.\n",
    "Sort a list in descending order(reverse=True) order."
   ]
  },
  {
   "cell_type": "code",
   "execution_count": null,
   "metadata": {},
   "outputs": [],
   "source": [
    "L9 = [10, 0, 1.8, 5, 9, 4, 8, 25.5, 5.5]\n",
    "L10 = ['eggfruit', 'apple', 'dragonfruit', 'cherry', 'banana']\n",
    "L11 = [1.1, 1.000001, 1.001, 0.001, 1.08]"
   ]
  },
  {
   "cell_type": "code",
   "execution_count": null,
   "metadata": {},
   "outputs": [
    {
     "data": {
      "text/plain": [
       "[0, 1.8, 4, 5, 5.5, 8, 9, 10, 25.5]"
      ]
     },
     "execution_count": 46,
     "metadata": {},
     "output_type": "execute_result"
    }
   ],
   "source": [
    "# Ascending Order\n",
    "\n",
    "L9.sort()\n",
    "L9"
   ]
  },
  {
   "cell_type": "code",
   "execution_count": null,
   "metadata": {},
   "outputs": [
    {
     "data": {
      "text/plain": [
       "[25.5, 10, 9, 8, 5.5, 5, 4, 1.8, 0]"
      ]
     },
     "execution_count": 47,
     "metadata": {},
     "output_type": "execute_result"
    }
   ],
   "source": [
    "# Descending Order\n",
    "\n",
    "L9.sort(reverse=True)\n",
    "L9"
   ]
  },
  {
   "cell_type": "code",
   "execution_count": null,
   "metadata": {},
   "outputs": [
    {
     "data": {
      "text/plain": [
       "['apple', 'banana', 'cherry', 'dragonfruit', 'eggfruit']"
      ]
     },
     "execution_count": 48,
     "metadata": {},
     "output_type": "execute_result"
    }
   ],
   "source": [
    "# Ascending Order of String List\n",
    "\n",
    "L10.sort()\n",
    "L10"
   ]
  },
  {
   "cell_type": "code",
   "execution_count": null,
   "metadata": {},
   "outputs": [
    {
     "data": {
      "text/plain": [
       "['eggfruit', 'dragonfruit', 'cherry', 'banana', 'apple']"
      ]
     },
     "execution_count": 49,
     "metadata": {},
     "output_type": "execute_result"
    }
   ],
   "source": [
    "# Descending order of String List\n",
    "\n",
    "L10.sort(reverse=True)\n",
    "L10"
   ]
  },
  {
   "cell_type": "code",
   "execution_count": null,
   "metadata": {},
   "outputs": [
    {
     "data": {
      "text/plain": [
       "['apple', 'cherry', 'banana', 'eggfruit', 'dragonfruit']"
      ]
     },
     "execution_count": 50,
     "metadata": {},
     "output_type": "execute_result"
    }
   ],
   "source": [
    "# Ascending order of String List but with Length of each string\n",
    "\n",
    "L10.sort(key=len)\n",
    "L10"
   ]
  },
  {
   "cell_type": "code",
   "execution_count": null,
   "metadata": {},
   "outputs": [
    {
     "data": {
      "text/plain": [
       "['dragonfruit', 'eggfruit', 'cherry', 'banana', 'apple']"
      ]
     },
     "execution_count": 51,
     "metadata": {},
     "output_type": "execute_result"
    }
   ],
   "source": [
    "# Descending order of String List but with Length of each string\n",
    "\n",
    "L10.sort(key=len, reverse=True)\n",
    "L10"
   ]
  },
  {
   "cell_type": "code",
   "execution_count": null,
   "metadata": {},
   "outputs": [
    {
     "data": {
      "text/plain": [
       "[0.001, 1.000001, 1.001, 1.08, 1.1]"
      ]
     },
     "execution_count": 52,
     "metadata": {},
     "output_type": "execute_result"
    }
   ],
   "source": [
    "L11.sort()\n",
    "L11"
   ]
  },
  {
   "cell_type": "code",
   "execution_count": null,
   "metadata": {},
   "outputs": [
    {
     "ename": "TypeError",
     "evalue": "'<' not supported between instances of 'str' and 'int'",
     "output_type": "error",
     "traceback": [
      "\u001b[1;31m---------------------------------------------------------------------------\u001b[0m",
      "\u001b[1;31mTypeError\u001b[0m                                 Traceback (most recent call last)",
      "Cell \u001b[1;32mIn[77], line 5\u001b[0m\n\u001b[0;32m      1\u001b[0m \u001b[38;5;66;03m# we can not sort list whose having Hetrogeneous Items\u001b[39;00m\n\u001b[0;32m      3\u001b[0m L12 \u001b[38;5;241m=\u001b[39m [\u001b[38;5;241m1.000001\u001b[39m,\u001b[38;5;241m2\u001b[39m,\u001b[38;5;28;01mTrue\u001b[39;00m,\u001b[38;5;241m5\u001b[39m,\u001b[38;5;241m0\u001b[39m,\u001b[38;5;241m5.5\u001b[39m,\u001b[38;5;124m'\u001b[39m\u001b[38;5;124mML\u001b[39m\u001b[38;5;124m'\u001b[39m,\u001b[38;5;124m'\u001b[39m\u001b[38;5;124mDL\u001b[39m\u001b[38;5;124m'\u001b[39m,\u001b[38;5;28;01mFalse\u001b[39;00m,\u001b[38;5;241m10.10\u001b[39m]\n\u001b[1;32m----> 5\u001b[0m \u001b[43mL12\u001b[49m\u001b[38;5;241;43m.\u001b[39;49m\u001b[43msort\u001b[49m\u001b[43m(\u001b[49m\u001b[43m)\u001b[49m\n",
      "\u001b[1;31mTypeError\u001b[0m: '<' not supported between instances of 'str' and 'int'"
     ]
    }
   ],
   "source": [
    "# we can not sort list whose having Hetrogeneous Items\n",
    "\n",
    "L12 = [1.000001,2,True,5,0,5.5,'ML','DL',False,10.10]\n",
    "\n",
    "L12.sort()"
   ]
  },
  {
   "cell_type": "markdown",
   "metadata": {},
   "source": [
    "### reverse(): \n",
    "\n",
    "Reverse the items of the list."
   ]
  },
  {
   "cell_type": "code",
   "execution_count": null,
   "metadata": {},
   "outputs": [],
   "source": [
    "L12 = [1.000001,2,True,5,0,5.5,'ML','DL',False,10.10]\n",
    "L13 = [10, 9, 1, 2, 8, 7, 3, 4, 6, 5, 0]\n",
    "L14 = ['Samsung', 'Apple', 'Google', 'NVDIA', 'Microsoft']"
   ]
  },
  {
   "cell_type": "code",
   "execution_count": null,
   "metadata": {},
   "outputs": [
    {
     "data": {
      "text/plain": [
       "[10.1, False, 'DL', 'ML', 5.5, 0, 5, True, 2, 1.000001]"
      ]
     },
     "execution_count": 79,
     "metadata": {},
     "output_type": "execute_result"
    }
   ],
   "source": [
    "L12.reverse()\n",
    "L12"
   ]
  },
  {
   "cell_type": "code",
   "execution_count": null,
   "metadata": {},
   "outputs": [
    {
     "data": {
      "text/plain": [
       "[1.000001, 2, True, 5, 0, 5.5, 'ML', 'DL', False, 10.1]"
      ]
     },
     "execution_count": 80,
     "metadata": {},
     "output_type": "execute_result"
    }
   ],
   "source": [
    "# to get orginal list, will reverse already reversed list\n",
    "\n",
    "L12.reverse()\n",
    "L12"
   ]
  },
  {
   "cell_type": "code",
   "execution_count": null,
   "metadata": {},
   "outputs": [
    {
     "data": {
      "text/plain": [
       "[0, 5, 6, 4, 3, 7, 8, 2, 1, 9, 10]"
      ]
     },
     "execution_count": 81,
     "metadata": {},
     "output_type": "execute_result"
    }
   ],
   "source": [
    "L13.reverse()\n",
    "L13"
   ]
  },
  {
   "cell_type": "code",
   "execution_count": null,
   "metadata": {},
   "outputs": [
    {
     "data": {
      "text/plain": [
       "['Microsoft', 'NVDIA', 'Google', 'Apple', 'Samsung']"
      ]
     },
     "execution_count": 82,
     "metadata": {},
     "output_type": "execute_result"
    }
   ],
   "source": [
    "L14.reverse()\n",
    "L14"
   ]
  },
  {
   "cell_type": "markdown",
   "metadata": {},
   "source": [
    "### copy():\n",
    "\n",
    "Returns a shalow copy of list."
   ]
  },
  {
   "cell_type": "code",
   "execution_count": null,
   "metadata": {},
   "outputs": [],
   "source": [
    "import copy\n",
    "\n",
    "L15 = ['A', 'AB', 'ABC', 1, 2, 3, 1.1, 1.2, 1.3, True, False]"
   ]
  },
  {
   "cell_type": "markdown",
   "metadata": {},
   "source": [
    "##### Shalow Copy example:\n",
    "\n",
    "• Shalow copy is like shadow of tree. If we made changes in orginal list, same will appear in copied list.\n",
    "\n",
    "• Copies the outer object, but nested objects are still references to the original nested objects."
   ]
  },
  {
   "cell_type": "code",
   "execution_count": null,
   "metadata": {},
   "outputs": [],
   "source": [
    "L16 = L15"
   ]
  },
  {
   "cell_type": "code",
   "execution_count": null,
   "metadata": {},
   "outputs": [
    {
     "name": "stdout",
     "output_type": "stream",
     "text": [
      "Origirnal List: ['A', 'AB', 'ABC', 1, 2, 3, 1.1, 1.2, True, False]\n",
      "Copied List   : ['A', 'AB', 'ABC', 1, 2, 3, 1.1, 1.2, True, False]\n"
     ]
    }
   ],
   "source": [
    "L16.remove(1.3)\n",
    "print(\"Origirnal List:\", L15)\n",
    "print(\"Copied List   :\", L16)"
   ]
  },
  {
   "cell_type": "markdown",
   "metadata": {},
   "source": [
    "##### Deep Copy example:\n",
    "\n",
    "• Changes made in Copied list will not reflect in Original list.\n",
    "\n",
    "• Copies both the outer object and all nested objects, so the new object is entirely independent of the original."
   ]
  },
  {
   "cell_type": "code",
   "execution_count": null,
   "metadata": {},
   "outputs": [],
   "source": [
    "import copy\n",
    "\n",
    "L17 = ['A', 'AB', 'ABC', 1, 2, 3, 1.1, 1.2, 1.3, True, False]"
   ]
  },
  {
   "cell_type": "code",
   "execution_count": null,
   "metadata": {},
   "outputs": [],
   "source": [
    "L18 = L17.copy()"
   ]
  },
  {
   "cell_type": "code",
   "execution_count": null,
   "metadata": {},
   "outputs": [
    {
     "name": "stdout",
     "output_type": "stream",
     "text": [
      "Original List:  ['A', 'AB', 'ABC', 1, 2, 3, 1.1, 1.2, 1.3, True, False]\n",
      "Copied List  :  [False, True, 1.3, 1.2, 1.1, 3, 2, 1, 'ABC', 'AB', 'A']\n"
     ]
    }
   ],
   "source": [
    "L18.reverse()\n",
    "\n",
    "print(\"Original List: \", L17)\n",
    "print(\"Copied List  : \", L18)"
   ]
  },
  {
   "cell_type": "markdown",
   "metadata": {},
   "source": [
    "### clear():\n",
    "\n",
    "clear() method is used to remove all elements from a mutable container such as a list, dictionary, or set. After calling clear(), the container becomes empty, but the container itself still exists."
   ]
  },
  {
   "cell_type": "code",
   "execution_count": null,
   "metadata": {},
   "outputs": [],
   "source": [
    "L19 = [\"PHYSICS\", 0, 1.2, True, \"Chemistry\", 3, 4.5, False, \"Maths\", 7, 8.5]"
   ]
  },
  {
   "cell_type": "code",
   "execution_count": null,
   "metadata": {},
   "outputs": [],
   "source": [
    "L19.clear()"
   ]
  },
  {
   "cell_type": "code",
   "execution_count": null,
   "metadata": {},
   "outputs": [
    {
     "data": {
      "text/plain": [
       "[]"
      ]
     },
     "execution_count": 91,
     "metadata": {},
     "output_type": "execute_result"
    }
   ],
   "source": [
    "L19"
   ]
  },
  {
   "cell_type": "markdown",
   "metadata": {},
   "source": [
    "# Important Questions asked in the Interview based on Python List"
   ]
  },
  {
   "cell_type": "markdown",
   "metadata": {},
   "source": [
    "### 1. What is the difference between List and Tuple?\n",
    "\n",
    "**• List:**\n",
    "- Lists are mutable, meaning that you can modify it after created.\n",
    "- Lists are defined using Square brackets [ ].\n",
    "- Lists are slower than the tuple because they are mutable.\n",
    "- List consumes more memory. List need to allocate extra space to allow for dynamic resizing.\n",
    "- List can not be used as keys in dictionary or stored in sets, because their hash value can change.\n",
    "- E.g.: lst = [1, 2, 3, 4, 5]\n",
    "\n",
    "**• Tuple:**\n",
    "- Tuples are immutable, meaning that you can not modify it after created.\n",
    "- Tuples are defined using Parenthesis ( ).\n",
    "- Tuples are faster than list because they are immutable.\n",
    "- Tuple consumes less memory. Tuples are immutable.\n",
    "- Tuples can be used as keys in dictionaried or added to sets, because their hash value remains constant.\n",
    "- E.g.: tup = (1, 2, 3, 4, 5)\n",
    "\n",
    "Hash value: A unique identifier or a fixed-size integer representation of an object."
   ]
  },
  {
   "cell_type": "markdown",
   "metadata": {},
   "source": [
    "### 2. What is the difference between List and NumPy Array?\n",
    "\n",
    "**• List:**\n",
    "- Can consist elements of different data types.\n",
    "- No need to import any module to use it.\n",
    "- Can not handle arithmetic operations directly.\n",
    "- Consumes large memory.\n",
    "- Suitable for storing the short sequence of data items.\n",
    "- Ex.: lst = [1, 2, 3, 4, 5]\n",
    "\n",
    "**• Array:**\n",
    "- Can consist elements only same data type.\n",
    "- Need to import array module to use it.\n",
    "- Can handle arithmetic operations directly.\n",
    "- Consumes less memory.\n",
    "- Suitable for storing the large sequence of data items.\n",
    "- Ex.: arr = [1 2 3 4 5]"
   ]
  },
  {
   "cell_type": "markdown",
   "metadata": {},
   "source": [
    "### 3. Create a flattened list from nested list."
   ]
  },
  {
   "cell_type": "code",
   "execution_count": null,
   "metadata": {},
   "outputs": [
    {
     "name": "stdout",
     "output_type": "stream",
     "text": [
      "[0, 1, 2, 3, 4, 5, 6, 7, 8, 9, 10, 11]\n"
     ]
    }
   ],
   "source": [
    "nested_list = [[0, 1], [2, 3], [4, 5], [6, 7], [8, 9], [10, 11]]\n",
    "\n",
    "flattened_list = []\n",
    "\n",
    "for i in nested_list:\n",
    "    for j in i:\n",
    "        flattened_list.append(j)\n",
    "\n",
    "print(flattened_list)"
   ]
  },
  {
   "cell_type": "code",
   "execution_count": null,
   "metadata": {},
   "outputs": [
    {
     "name": "stdout",
     "output_type": "stream",
     "text": [
      "[1, 2, 3, 4, 5, 6, 7, 8, 9, 10]\n"
     ]
    }
   ],
   "source": [
    "nested_list = [1, [2, 3], [4, 5], [6, 7], [8, 9], 10]\n",
    "\n",
    "flattened_list = []\n",
    "\n",
    "for i in nested_list:\n",
    "    if isinstance(i, list):         # Check if the element is a list\n",
    "        for j in i:                 # If it is a list, loop through it\n",
    "            flattened_list.append(j)\n",
    "    else:\n",
    "        flattened_list.append(i)    # If it's not a list, just append the element\n",
    "\n",
    "print(flattened_list)\n"
   ]
  },
  {
   "cell_type": "markdown",
   "metadata": {},
   "source": [
    "### 4. Sort the list without using built-in functions/methods."
   ]
  },
  {
   "cell_type": "code",
   "execution_count": null,
   "metadata": {},
   "outputs": [
    {
     "name": "stdout",
     "output_type": "stream",
     "text": [
      "[0, 0, 1, 2, 3, 4, 5, 6, 7, 8, 9, 10]\n"
     ]
    }
   ],
   "source": [
    "my_list = [10, 0, 9, 1, 2, 8, 7, 3, 4, 6, 5, 0]\n",
    "\n",
    "for i in range(0, len(my_list)):\n",
    "    for j in range(i+1, len(my_list)):\n",
    "        if my_list[i]>=my_list[j]:\n",
    "            my_list[i], my_list[j] = my_list[j], my_list[i]\n",
    "\n",
    "print(my_list)"
   ]
  },
  {
   "cell_type": "markdown",
   "metadata": {},
   "source": [
    "### 5. Reverse the list without using built-in functions/methods."
   ]
  },
  {
   "cell_type": "code",
   "execution_count": null,
   "metadata": {},
   "outputs": [
    {
     "name": "stdout",
     "output_type": "stream",
     "text": [
      "[10, 9, 8, 7, 6, 5, 4, 3, 2, 1, 0, 0]\n"
     ]
    }
   ],
   "source": [
    "my_list = [0, 0, 1, 2, 3, 4, 5, 6, 7, 8, 9, 10]\n",
    "\n",
    "reversed_list = my_list[::-1]\n",
    "\n",
    "print(reversed_list)"
   ]
  },
  {
   "cell_type": "code",
   "execution_count": null,
   "metadata": {},
   "outputs": [
    {
     "name": "stdout",
     "output_type": "stream",
     "text": [
      "[10, 9, 8, 7, 6, 5, 4, 3, 2, 1, 0]\n"
     ]
    }
   ],
   "source": [
    "# reverse the given list without using sort or reverse function.\n",
    "\n",
    "my_list = [0, 1, 2, 3, 4, 5, 6, 7, 8, 9, 10]\n",
    "\n",
    "reversed_list = []\n",
    "\n",
    "for i in my_list:\n",
    "    reversed_list.insert(0, i)\n",
    "\n",
    "print(reversed_list)"
   ]
  }
 ],
 "metadata": {
  "kernelspec": {
   "display_name": "python_ipynb",
   "language": "python",
   "name": "python3"
  },
  "language_info": {
   "codemirror_mode": {
    "name": "ipython",
    "version": 3
   },
   "file_extension": ".py",
   "mimetype": "text/x-python",
   "name": "python",
   "nbconvert_exporter": "python",
   "pygments_lexer": "ipython3",
   "version": "3.12.1"
  }
 },
 "nbformat": 4,
 "nbformat_minor": 2
}
