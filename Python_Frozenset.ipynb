{
 "cells": [
  {
   "cell_type": "markdown",
   "metadata": {},
   "source": [
    "# Frozenset\n",
    "\n",
    "Frozenset is an immutable version set. Just like python set it is unordered and allow only unique elements."
   ]
  },
  {
   "cell_type": "markdown",
   "metadata": {},
   "source": [
    "### Characteristics of Frozenset:\n",
    "\n",
    "**1. Immutable:** Once a Frozenset is created, its contents can not be modified. This makes it hashable and suitable for use as a dictionary key or set elements.\n",
    "\n",
    "**2. Unordered:** Like regular sets, frozensets are unordered collections. The elements do not have an index, and they are not stored in a particular order.\n",
    "\n",
    "**3. Unique Elements:** Similar to regular sets, frozenset only store unique elements, meaning no duplicates are allowed.\n",
    "\n",
    "**4. Hashable:** Since a frozenset is immutable, it is hashable. This allows it to be used as a key in a dictionary or as an element in other sets."
   ]
  },
  {
   "cell_type": "markdown",
   "metadata": {},
   "source": [
    "### Creating Frozenset:\n",
    "\n",
    "We can use frozenset() constructor to create frozenset from an iterable (like list, tuple, etc.)."
   ]
  },
  {
   "cell_type": "code",
   "execution_count": 1,
   "metadata": {},
   "outputs": [
    {
     "name": "stdout",
     "output_type": "stream",
     "text": [
      "frozenset({1, 2, 3, 4, 5})\n"
     ]
    }
   ],
   "source": [
    "my_frozenset = frozenset([1,2,3,4,5])\n",
    "print(my_frozenset)"
   ]
  },
  {
   "cell_type": "markdown",
   "metadata": {},
   "source": [
    "### Frozenset Operations: Set Operations"
   ]
  },
  {
   "cell_type": "code",
   "execution_count": 2,
   "metadata": {},
   "outputs": [],
   "source": [
    "# frozenset using list iterable\n",
    "F1 = frozenset([0, 1, 2, 3, 4, 5])\n",
    "F2 = frozenset([4, 5, 6, 7, 8, 9, 0])\n",
    "\n",
    "# frozenset using set iterable\n",
    "F3 = frozenset({\"Apple\", \"Banana\", \"Cherry\"})\n",
    "F4 = frozenset({\"Cherry\", \"Dragonfruit\", \"Eggfruit\"})\n",
    "\n",
    "# frozenset using tuple iterable\n",
    "F5 = frozenset((1,2,3,4,5))\n",
    "F6 = frozenset((6,7,8,9,0))\n",
    "\n",
    "# frozenset from string\n",
    "F7 = frozenset(\"python_programming\")\n",
    "F8 = frozenset(\"python\")\n",
    "\n",
    "# frozenset using dictionary\n",
    "F9 = frozenset({'A':'Apple', 'B':'Ball', 'C':'Cat'})\n",
    "F10 = frozenset({'C':'Cat', 'D':'Dog', 'E':'Elephant'})"
   ]
  },
  {
   "cell_type": "markdown",
   "metadata": {},
   "source": [
    "### union():\n",
    "\n",
    "Returns a new frozenset with all elements from the current frozenset and the other iterble(s) or frozenset."
   ]
  },
  {
   "cell_type": "code",
   "execution_count": 3,
   "metadata": {},
   "outputs": [
    {
     "data": {
      "text/plain": [
       "frozenset({0, 1, 2, 3, 4, 5, 6, 7, 8, 9})"
      ]
     },
     "execution_count": 3,
     "metadata": {},
     "output_type": "execute_result"
    }
   ],
   "source": [
    "F1.union(F2)"
   ]
  },
  {
   "cell_type": "code",
   "execution_count": 4,
   "metadata": {},
   "outputs": [
    {
     "data": {
      "text/plain": [
       "frozenset({'Apple', 'Banana', 'Cherry', 'Dragonfruit', 'Eggfruit'})"
      ]
     },
     "execution_count": 4,
     "metadata": {},
     "output_type": "execute_result"
    }
   ],
   "source": [
    "F3.union(F4)"
   ]
  },
  {
   "cell_type": "markdown",
   "metadata": {},
   "source": [
    "### intersection:\n",
    "\n",
    "Returns a new frozenset with elements common to the current frozenset and the other iterable(s) or frozenset."
   ]
  },
  {
   "cell_type": "code",
   "execution_count": 5,
   "metadata": {},
   "outputs": [
    {
     "data": {
      "text/plain": [
       "frozenset({0, 4, 5})"
      ]
     },
     "execution_count": 5,
     "metadata": {},
     "output_type": "execute_result"
    }
   ],
   "source": [
    "F1.intersection(F2)"
   ]
  },
  {
   "cell_type": "code",
   "execution_count": 6,
   "metadata": {},
   "outputs": [
    {
     "data": {
      "text/plain": [
       "frozenset({'Cherry'})"
      ]
     },
     "execution_count": 6,
     "metadata": {},
     "output_type": "execute_result"
    }
   ],
   "source": [
    "F3.intersection(F4)"
   ]
  },
  {
   "cell_type": "markdown",
   "metadata": {},
   "source": [
    "### difference:\n",
    "\n",
    "Returns a new frozenset with elements in the current frozenset that are not in the other iterable(s) or frozenset."
   ]
  },
  {
   "cell_type": "code",
   "execution_count": 7,
   "metadata": {},
   "outputs": [
    {
     "data": {
      "text/plain": [
       "frozenset({1, 2, 3})"
      ]
     },
     "execution_count": 7,
     "metadata": {},
     "output_type": "execute_result"
    }
   ],
   "source": [
    "F1.difference(F2)"
   ]
  },
  {
   "cell_type": "code",
   "execution_count": 8,
   "metadata": {},
   "outputs": [
    {
     "data": {
      "text/plain": [
       "frozenset({6, 7, 8, 9})"
      ]
     },
     "execution_count": 8,
     "metadata": {},
     "output_type": "execute_result"
    }
   ],
   "source": [
    "F2.difference(F1)"
   ]
  },
  {
   "cell_type": "code",
   "execution_count": 9,
   "metadata": {},
   "outputs": [
    {
     "data": {
      "text/plain": [
       "frozenset({'Apple', 'Banana'})"
      ]
     },
     "execution_count": 9,
     "metadata": {},
     "output_type": "execute_result"
    }
   ],
   "source": [
    "F3.difference(F4)"
   ]
  },
  {
   "cell_type": "code",
   "execution_count": 10,
   "metadata": {},
   "outputs": [
    {
     "data": {
      "text/plain": [
       "frozenset({'Dragonfruit', 'Eggfruit'})"
      ]
     },
     "execution_count": 10,
     "metadata": {},
     "output_type": "execute_result"
    }
   ],
   "source": [
    "F4.difference(F3)"
   ]
  },
  {
   "cell_type": "markdown",
   "metadata": {},
   "source": [
    "### symmetric_difference:\n",
    "\n",
    "Returns a new frozenset with elements that are in either of the sets, but not both."
   ]
  },
  {
   "cell_type": "code",
   "execution_count": 11,
   "metadata": {},
   "outputs": [
    {
     "data": {
      "text/plain": [
       "frozenset({1, 2, 3, 6, 7, 8, 9})"
      ]
     },
     "execution_count": 11,
     "metadata": {},
     "output_type": "execute_result"
    }
   ],
   "source": [
    "F1.symmetric_difference(F2)"
   ]
  },
  {
   "cell_type": "code",
   "execution_count": 12,
   "metadata": {},
   "outputs": [
    {
     "data": {
      "text/plain": [
       "frozenset({'Apple', 'Banana', 'Dragonfruit', 'Eggfruit'})"
      ]
     },
     "execution_count": 12,
     "metadata": {},
     "output_type": "execute_result"
    }
   ],
   "source": [
    "F3.symmetric_difference(F4)"
   ]
  },
  {
   "cell_type": "markdown",
   "metadata": {},
   "source": [
    "### isdisjoint():\n",
    "\n",
    "Returns True, if the current frozenset has no elements in common with the other iterable(s) or frozenset."
   ]
  },
  {
   "cell_type": "code",
   "execution_count": 13,
   "metadata": {},
   "outputs": [
    {
     "data": {
      "text/plain": [
       "False"
      ]
     },
     "execution_count": 13,
     "metadata": {},
     "output_type": "execute_result"
    }
   ],
   "source": [
    "F1.isdisjoint(F2)"
   ]
  },
  {
   "cell_type": "code",
   "execution_count": 14,
   "metadata": {},
   "outputs": [
    {
     "data": {
      "text/plain": [
       "False"
      ]
     },
     "execution_count": 14,
     "metadata": {},
     "output_type": "execute_result"
    }
   ],
   "source": [
    "F3.isdisjoint(F4)"
   ]
  },
  {
   "cell_type": "code",
   "execution_count": 15,
   "metadata": {},
   "outputs": [
    {
     "data": {
      "text/plain": [
       "True"
      ]
     },
     "execution_count": 15,
     "metadata": {},
     "output_type": "execute_result"
    }
   ],
   "source": [
    "F5.isdisjoint(F6)"
   ]
  },
  {
   "cell_type": "markdown",
   "metadata": {},
   "source": [
    "### issubset():\n",
    "\n",
    "Returns True, if all elements of the current frozenset are in the other iterable(s) or frozenset."
   ]
  },
  {
   "cell_type": "code",
   "execution_count": 16,
   "metadata": {},
   "outputs": [
    {
     "data": {
      "text/plain": [
       "False"
      ]
     },
     "execution_count": 16,
     "metadata": {},
     "output_type": "execute_result"
    }
   ],
   "source": [
    "F7.issubset(F8)"
   ]
  },
  {
   "cell_type": "code",
   "execution_count": 17,
   "metadata": {},
   "outputs": [
    {
     "data": {
      "text/plain": [
       "True"
      ]
     },
     "execution_count": 17,
     "metadata": {},
     "output_type": "execute_result"
    }
   ],
   "source": [
    "F8.issubset(F7)"
   ]
  },
  {
   "cell_type": "markdown",
   "metadata": {},
   "source": [
    "### issuperset():\n",
    "\n",
    "return True, if all elements of the other iterable(s) or frozenset are in the current frozenset."
   ]
  },
  {
   "cell_type": "code",
   "execution_count": 18,
   "metadata": {},
   "outputs": [
    {
     "data": {
      "text/plain": [
       "True"
      ]
     },
     "execution_count": 18,
     "metadata": {},
     "output_type": "execute_result"
    }
   ],
   "source": [
    "F7.issuperset(F8)"
   ]
  },
  {
   "cell_type": "code",
   "execution_count": 19,
   "metadata": {},
   "outputs": [
    {
     "data": {
      "text/plain": [
       "False"
      ]
     },
     "execution_count": 19,
     "metadata": {},
     "output_type": "execute_result"
    }
   ],
   "source": [
    "F8.issuperset(F7)"
   ]
  },
  {
   "cell_type": "markdown",
   "metadata": {},
   "source": [
    "### Frozenset Operations: Other Operations"
   ]
  },
  {
   "cell_type": "markdown",
   "metadata": {},
   "source": [
    "### copy():\n",
    "\n",
    "Returns shalow copy of object."
   ]
  },
  {
   "cell_type": "code",
   "execution_count": 20,
   "metadata": {},
   "outputs": [],
   "source": [
    "F9 = frozenset({'A':'Apple', 'B':'Ball', 'C':'Cat'})\n",
    "F10 = frozenset({'C':'Cat', 'D':'Dog', 'E':'Elephant'})"
   ]
  },
  {
   "cell_type": "markdown",
   "metadata": {},
   "source": [
    "##### Shalow Copy example:\n",
    "\n",
    "• Shalow copy is like shadow of tree. If we made changes in orginal list, same will appear in copied list.\n",
    "\n",
    "• Copies the outer object, but nested objects are still references to the original nested objects."
   ]
  },
  {
   "cell_type": "code",
   "execution_count": 21,
   "metadata": {},
   "outputs": [
    {
     "name": "stdout",
     "output_type": "stream",
     "text": [
      "F9: frozenset({'C', 'A', 'B'})\n",
      "F90: frozenset({'C', 'A', 'B'})\n"
     ]
    }
   ],
   "source": [
    "F90 = F9\n",
    "\n",
    "print(f\"F9: {F9}\")\n",
    "print(f\"F90: {F90}\")"
   ]
  },
  {
   "cell_type": "code",
   "execution_count": 22,
   "metadata": {},
   "outputs": [
    {
     "name": "stdout",
     "output_type": "stream",
     "text": [
      "F10: frozenset({'E', 'C', 'D'})\n",
      "F100: frozenset({'E', 'C', 'D'})\n"
     ]
    }
   ],
   "source": [
    "F100 = F10\n",
    "\n",
    "print(f\"F10: {F10}\")\n",
    "print(f\"F100: {F100}\")"
   ]
  }
 ],
 "metadata": {
  "kernelspec": {
   "display_name": "python_ipynb",
   "language": "python",
   "name": "python3"
  },
  "language_info": {
   "codemirror_mode": {
    "name": "ipython",
    "version": 3
   },
   "file_extension": ".py",
   "mimetype": "text/x-python",
   "name": "python",
   "nbconvert_exporter": "python",
   "pygments_lexer": "ipython3",
   "version": "3.12.1"
  }
 },
 "nbformat": 4,
 "nbformat_minor": 2
}
