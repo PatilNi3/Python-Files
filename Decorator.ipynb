{
 "cells": [
  {
   "cell_type": "markdown",
   "metadata": {},
   "source": [
    "# Decorator\n",
    "\n",
    "In Python, Decorator is a function that allows you to modify or extend the behavior of another function, method or class. \n",
    "\n",
    "It is used to add functionality to an existing function or class without modifying its structure directly.\n",
    "\n",
    "Decorators are often used for tasks such as logging, access control, caching and measuring performance."
   ]
  },
  {
   "cell_type": "markdown",
   "metadata": {},
   "source": [
    "### How Decorator Works?\n",
    "\n",
    "A decorator is essentially a function that takes another function (method) as an argument and returns a new function that usually extends or alters the behavior of the original function."
   ]
  },
  {
   "cell_type": "code",
   "execution_count": 11,
   "metadata": {},
   "outputs": [
    {
     "name": "stdout",
     "output_type": "stream",
     "text": [
      "This is before 'original function' execution.\n",
      "Original Function executed\n",
      "This is after 'original function' execution.\n"
     ]
    }
   ],
   "source": [
    "# create decorator\n",
    "\n",
    "def decorator_function(func):\n",
    "\n",
    "    # define inner function\n",
    "    def wrapper_function():\n",
    "\n",
    "        # add some additional behavior\n",
    "        print(\"This is before 'original function' execution.\")\n",
    "\n",
    "        # call original fucntion\n",
    "        func()\n",
    "\n",
    "        # again adding some additional behavior\n",
    "        print(\"This is after 'original function' execution.\")\n",
    "\n",
    "    # return the wrapper function\n",
    "    return wrapper_function\n",
    "\n",
    "# define original function\n",
    "\n",
    "def normal_function():\n",
    "    print(\"Original Function executed\") \n",
    "\n",
    "# decorate the original function\n",
    "\n",
    "decorate_original_fucntion = decorator_function(normal_function)\n",
    "\n",
    "# call decorated original function\n",
    "decorate_original_fucntion()"
   ]
  },
  {
   "cell_type": "markdown",
   "metadata": {},
   "source": [
    "##### Calling Decorator using the @ symbol"
   ]
  },
  {
   "cell_type": "code",
   "execution_count": 12,
   "metadata": {},
   "outputs": [
    {
     "name": "stdout",
     "output_type": "stream",
     "text": [
      "Before execution of 'original function'.\n",
      "Original Function executed.\n",
      "After execution of 'original function'.\n"
     ]
    }
   ],
   "source": [
    "# create decorator\n",
    "\n",
    "def decorator_fucntion_1(func):\n",
    "\n",
    "    # define inner function\n",
    "    def wrapper_function():\n",
    "\n",
    "        # add some additional behavior\n",
    "        print(\"Before execution of 'original function'.\")\n",
    "\n",
    "        # call original function\n",
    "        func()\n",
    "\n",
    "        # again adding some additional behavior\n",
    "        print(\"After execution of 'original function'.\")\n",
    "\n",
    "    # return the inner function\n",
    "    return wrapper_function\n",
    "\n",
    "# calling decorator over original function\n",
    "\n",
    "@decorator_fucntion_1\n",
    "def simple_function():\n",
    "    print(\"Original Function executed.\")\n",
    "\n",
    "# call the decorated original function\n",
    "simple_function()"
   ]
  },
  {
   "cell_type": "markdown",
   "metadata": {},
   "source": [
    "### Decorator With Arguments\n",
    "\n",
    "Here the inner function will take the argument as ***args** and ****kwargs** which means that a tuple of positional arguments or a dictionary of keyword arguments can be passed of any length. \n",
    "\n",
    "This makes it a genaral decorator that can decorate a function having any number of arguments."
   ]
  },
  {
   "cell_type": "code",
   "execution_count": 13,
   "metadata": {},
   "outputs": [
    {
     "name": "stdout",
     "output_type": "stream",
     "text": [
      "This is before 'original function' call.\n",
      "Hello, this is a Decorator with Arguments.\n",
      "This is after 'original function' call.\n"
     ]
    }
   ],
   "source": [
    "# create decorator\n",
    "\n",
    "def argument_decorator(func):\n",
    "\n",
    "    # define inner function with arguments *args and **kwargs\n",
    "    def wrapper_function(*args, **kwargs):\n",
    "\n",
    "        # add some additional behavior\n",
    "        print(\"This is before 'original function' call.\")\n",
    "\n",
    "        # call original function\n",
    "        result = func(*args, **kwargs)\n",
    "\n",
    "        # again add some additional behavior\n",
    "        print(\"This is after 'original function' call.\")\n",
    "\n",
    "        # return the 'original function'\n",
    "        return result\n",
    "\n",
    "    # return the inner function\n",
    "    return wrapper_function\n",
    "\n",
    "# calling decorator over original function\n",
    "\n",
    "@argument_decorator\n",
    "def display_function(name):\n",
    "    print(f\"{name}, this is a Decorator with Arguments.\")\n",
    "\n",
    "# call the decorated original function\n",
    "\n",
    "display_function(\"Hello\")"
   ]
  },
  {
   "cell_type": "markdown",
   "metadata": {},
   "source": [
    "### Class Based Decorator\n",
    "\n",
    "A class-based decorator in Python is a decorator that uses a class to wrap the functionality of a function or method. \n",
    "\n",
    "Instead of defining a function to act as the decorator, you create a class that implements the __call__ method. \n",
    "\n",
    "This allows an instance of the class to be used as a decorator, making it a powerful and flexible way to decorate functions or methods."
   ]
  },
  {
   "cell_type": "code",
   "execution_count": null,
   "metadata": {},
   "outputs": [
    {
     "name": "stdout",
     "output_type": "stream",
     "text": [
      "Before original function call.\n",
      "Python Decorator\n",
      "After original function call.\n"
     ]
    }
   ],
   "source": [
    "class ClassBasedDecorator:\n",
    "\n",
    "    def __init__(self, func):\n",
    "        self.func = func  # Store the original function\n",
    "    \n",
    "    def __call__(self, *args, **kwargs):\n",
    "\n",
    "        print(\"Before original function call.\")\n",
    "        \n",
    "        # Call the original function\n",
    "        result = self.func(*args, **kwargs) \n",
    "        \n",
    "        print(\"After original function call.\")\n",
    "\n",
    "        # return original function\n",
    "        return result\n",
    "\n",
    "# Applying the class-based decorator to a function\n",
    "@ClassBasedDecorator\n",
    "def show_function(name):\n",
    "    print(name)\n",
    "\n",
    "# Call the decorated function\n",
    "show_function(\"Python Decorator\")"
   ]
  },
  {
   "cell_type": "markdown",
   "metadata": {},
   "source": [
    "# Important Questions asked in the Interview based on Decorator"
   ]
  },
  {
   "cell_type": "markdown",
   "metadata": {},
   "source": [
    "### 1. Write a Decorator to add two numbers."
   ]
  },
  {
   "cell_type": "code",
   "execution_count": 27,
   "metadata": {},
   "outputs": [
    {
     "name": "stdout",
     "output_type": "stream",
     "text": [
      "Adding two numbers\n",
      "7\n"
     ]
    }
   ],
   "source": [
    "def add_number_decorator(func):\n",
    "    def wrapper(a,b):\n",
    "        print(\"Adding two numbers\")\n",
    "        result = a+b\n",
    "        return func(a,b)\n",
    "    return wrapper\n",
    "\n",
    "@add_number_decorator\n",
    "def add_number(a,b):\n",
    "    return a+b\n",
    "\n",
    "print(add_number(3,4))"
   ]
  },
  {
   "cell_type": "markdown",
   "metadata": {},
   "source": [
    "### 2. Write a Decorator to uppercase the string."
   ]
  },
  {
   "cell_type": "code",
   "execution_count": 29,
   "metadata": {},
   "outputs": [
    {
     "name": "stdout",
     "output_type": "stream",
     "text": [
      "Uppercase Decorator\n"
     ]
    },
    {
     "data": {
      "text/plain": [
       "'PYTHON'"
      ]
     },
     "execution_count": 29,
     "metadata": {},
     "output_type": "execute_result"
    }
   ],
   "source": [
    "def uppercase_decorator(func):\n",
    "    def wrapper_function(name):\n",
    "        print(\"Uppercase Decorator\")\n",
    "        return func(name).upper()\n",
    "    return wrapper_function\n",
    "\n",
    "@uppercase_decorator\n",
    "def uppercase(name):\n",
    "    return name\n",
    "\n",
    "uppercase(\"python\")"
   ]
  },
  {
   "cell_type": "markdown",
   "metadata": {},
   "source": [
    "### 3. What is @property decorator?\n",
    "\n",
    "We use @property decorator on any method in the class to use that method as a property."
   ]
  },
  {
   "cell_type": "code",
   "execution_count": null,
   "metadata": {},
   "outputs": [
    {
     "data": {
      "text/plain": [
       "94.66666666666667"
      ]
     },
     "execution_count": 30,
     "metadata": {},
     "output_type": "execute_result"
    }
   ],
   "source": [
    "# without @propert decorator\n",
    "\n",
    "class Student:\n",
    "\n",
    "    def __init__(self, physics, chemistry, maths):\n",
    "        self.physics = physics\n",
    "        self.chemistry = chemistry\n",
    "        self.maths = maths\n",
    "\n",
    "    def percentage(self):\n",
    "        return (self.physics+self.chemistry+self.maths)/3\n",
    "    \n",
    "student1 = Student(90,95,99)\n",
    "student1.percentage()"
   ]
  },
  {
   "cell_type": "code",
   "execution_count": 31,
   "metadata": {},
   "outputs": [
    {
     "data": {
      "text/plain": [
       "94.66666666666667"
      ]
     },
     "execution_count": 31,
     "metadata": {},
     "output_type": "execute_result"
    }
   ],
   "source": [
    "# with @property decorator\n",
    "\n",
    "class Student:\n",
    "    def __init__(self,physics,chemistry,maths):\n",
    "        self.physics = physics\n",
    "        self.chemistry = chemistry\n",
    "        self.maths = maths\n",
    "\n",
    "    @property\n",
    "    def percentage(self):\n",
    "        return (self.physics+self.chemistry+self.maths)/3\n",
    "    \n",
    "student1 = Student(90,95,99)\n",
    "student1.percentage"
   ]
  },
  {
   "cell_type": "markdown",
   "metadata": {},
   "source": [
    "Explanation:\n",
    "- The above example give the correct result but here every time we need to call percentage as a function (means using parenthesis).\n",
    "- But if we define percentage with @property decorator, it will treat percentage function as attribute and simply we can call it as using percentage (without parenthesis)"
   ]
  },
  {
   "cell_type": "markdown",
   "metadata": {},
   "source": [
    "### 4. What is @staticmethod decorator?"
   ]
  },
  {
   "cell_type": "markdown",
   "metadata": {},
   "source": [
    "Unlike instance methods (which have self as their first parameter) and class methods (which have cls as their first parameter), static methods don't take any special first parameter.\n",
    "\n",
    "A static method is a method that belongs to the class, but does not operate on instances of the class or modify the class itself."
   ]
  },
  {
   "cell_type": "code",
   "execution_count": null,
   "metadata": {},
   "outputs": [
    {
     "ename": "TypeError",
     "evalue": "Student.show() takes 0 positional arguments but 1 was given",
     "output_type": "error",
     "traceback": [
      "\u001b[1;31m---------------------------------------------------------------------------\u001b[0m",
      "\u001b[1;31mTypeError\u001b[0m                                 Traceback (most recent call last)",
      "Cell \u001b[1;32mIn[32], line 7\u001b[0m\n\u001b[0;32m      4\u001b[0m         \u001b[38;5;28mprint\u001b[39m(\u001b[38;5;124mf\u001b[39m\u001b[38;5;124m\"\u001b[39m\u001b[38;5;124mHello, World\u001b[39m\u001b[38;5;124m\"\u001b[39m)\n\u001b[0;32m      6\u001b[0m student \u001b[38;5;241m=\u001b[39m Student()\n\u001b[1;32m----> 7\u001b[0m \u001b[43mstudent\u001b[49m\u001b[38;5;241;43m.\u001b[39;49m\u001b[43mshow\u001b[49m\u001b[43m(\u001b[49m\u001b[43m)\u001b[49m\n",
      "\u001b[1;31mTypeError\u001b[0m: Student.show() takes 0 positional arguments but 1 was given"
     ]
    }
   ],
   "source": [
    "# without @staticmethod decorator\n",
    "\n",
    "class Student:\n",
    "\n",
    "    def show():\n",
    "        print(f\"Hello, World\")\n",
    "\n",
    "stud = Student()\n",
    "stud.show()"
   ]
  },
  {
   "cell_type": "code",
   "execution_count": null,
   "metadata": {},
   "outputs": [
    {
     "name": "stdout",
     "output_type": "stream",
     "text": [
      "Hello, World\n"
     ]
    }
   ],
   "source": [
    "# with @staticmethod decorator\n",
    "\n",
    "class Student:\n",
    "\n",
    "    @staticmethod\n",
    "    def show():\n",
    "        print(\"Hello, World\")\n",
    "\n",
    "stud = Student()\n",
    "stud.show()"
   ]
  },
  {
   "cell_type": "markdown",
   "metadata": {},
   "source": [
    "Explanation\n",
    "\n",
    "- When you define a method like show() inside a class without using any decorator (@staticmethod or @classmethod), it is treated as an instance method by default.\n",
    "- Even though show() doesn’t explicitly take any parameters, when you call it on an instance (e.g., stud.show()), Python automatically passes the instance (self) as the first argument to the method.\n",
    "- This is the default behavior for instance methods, where self represents the instance of the class. The show() method in your case is defined without any parameters, so it ends up receiving the implicit 'self' argument, which causes the error since the method isn't expecting any arguments.\n",
    "- When you use the @staticmethod decorator, you are telling Python that the method doesn't need to access any instance or class-specific data. In other words, it doesn't require 'self' or 'cls' as the first argument.\n",
    "- In this case, the show() method simply prints \"Hello, World\" without needing access to any instance (self) or class data (cls)."
   ]
  },
  {
   "cell_type": "markdown",
   "metadata": {},
   "source": [
    "###  5.What is @classmethod decorator?"
   ]
  },
  {
   "cell_type": "markdown",
   "metadata": {},
   "source": [
    "A class method is a decorator used to define a class method.\n",
    "\n",
    "A class method is bound to the class (cls), rather than an instance (self) of the class. \n",
    "\n",
    "It takes the class itself as its first argument, which is conventionlly named 'cls', instaed of taking an instance 'self'."
   ]
  },
  {
   "cell_type": "code",
   "execution_count": 1,
   "metadata": {},
   "outputs": [
    {
     "name": "stdout",
     "output_type": "stream",
     "text": [
      "anonymous\n",
      "python\n"
     ]
    }
   ],
   "source": [
    "class Student:\n",
    "    name = \"anonymous\"\n",
    "\n",
    "    @classmethod\n",
    "    def change_name(cls, name):\n",
    "        cls.name = name\n",
    "\n",
    "stud = Student()\n",
    "\n",
    "# before change_name call\n",
    "print(stud.name)\n",
    "\n",
    "# call change_name method\n",
    "stud.change_name(\"python\")\n",
    "\n",
    "# after change_name call\n",
    "print(stud.name)"
   ]
  },
  {
   "cell_type": "markdown",
   "metadata": {},
   "source": [
    "Explanation:\n",
    "\n",
    "- When you need to modify or interact with class level data, rather than instance level data.\n",
    "\n",
    "- Initially, the name variable is defined as a class variable with the value \"anonymous\".\n",
    "\n",
    "- The change_name method is a class method (decorated with @classmethod). The first argument of a class method is cls, which refers to the class itself (Student in this case). The change_name method changes the class-level variable name.\n",
    "\n",
    "- You call the change_name method on an instance of Student (i.e. stud). Since change_name is a class method, it modifies the class-level variable name, not an instance variable.\n",
    "\n",
    "- Before calling change_name, the name variable is \"anonymous\". After calling change_name(\"python\"), the class variable name is changed to \"python\", which is reflected when you print it.\n"
   ]
  },
  {
   "cell_type": "markdown",
   "metadata": {},
   "source": [
    "### 6. What is @abstractmethod decorator?\n",
    "\n",
    "The @abstractmethod decorator is used in Python to indicate that a method in an abstract class is abstract method.\n",
    "\n",
    "An abtract method is a method that is declared in a class but does not have any implementation in that class. Instead, it is meant to be implemented by subclasses of that abstract class.\n",
    "\n",
    "Subclasses are any non-abstract classes of the abstact class. Subclass must provide an implementation for all abstract methods to be instantiated."
   ]
  },
  {
   "cell_type": "code",
   "execution_count": 2,
   "metadata": {},
   "outputs": [
    {
     "name": "stdout",
     "output_type": "stream",
     "text": [
      "Dog says: Woof!\n",
      "Cat says: Meow!\n"
     ]
    }
   ],
   "source": [
    "from abc import ABC, abstractmethod\n",
    "\n",
    "class Animal(ABC):          # abstract class\n",
    "\n",
    "    @abstractmethod\n",
    "    def make_sound(self):   # abstract method\n",
    "        pass\n",
    "\n",
    "    def sleep(self):        # concrete method (has implementation)\n",
    "        print(\"Animal is sleeping\")\n",
    "\n",
    "class Dog(Animal):          # sub class\n",
    "    \n",
    "    def make_sound(self):   # abstract method implementation\n",
    "        return \"Woof!\"\n",
    "    \n",
    "class Cat(Animal):          # sub class\n",
    "\n",
    "    def make_sound(self):   # abstract method implementation\n",
    "        return \"Meow!\"\n",
    "    \n",
    "# instantiate objects of the subclasses\n",
    "dog = Dog()\n",
    "cat = Cat()\n",
    "\n",
    "print(f\"Dog says: {dog.make_sound()}\")\n",
    "print(f\"Cat says: {cat.make_sound()}\")"
   ]
  }
 ],
 "metadata": {
  "kernelspec": {
   "display_name": "python_ipynb",
   "language": "python",
   "name": "python3"
  },
  "language_info": {
   "codemirror_mode": {
    "name": "ipython",
    "version": 3
   },
   "file_extension": ".py",
   "mimetype": "text/x-python",
   "name": "python",
   "nbconvert_exporter": "python",
   "pygments_lexer": "ipython3",
   "version": "3.12.1"
  }
 },
 "nbformat": 4,
 "nbformat_minor": 2
}
