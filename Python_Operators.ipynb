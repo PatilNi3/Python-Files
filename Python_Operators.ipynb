{
 "cells": [
  {
   "cell_type": "markdown",
   "metadata": {},
   "source": [
    "# Operators\n",
    "\n",
    "In Python, operators are special symbols used to perform operations on variables and values. Python supports a wide range of operators that allow you to manipulate data, perform arithmetic, logical, and comparison operations, and more. These operators can be categorized into different types based on their functionality."
   ]
  },
  {
   "cell_type": "markdown",
   "metadata": {},
   "source": [
    "### Python defines the operators in the following groups:\n",
    "\n",
    "1. Arithmetic Operator\n",
    "2. Logical Operator\n",
    "3. Comparison Operator\n",
    "4. Assignment Operator\n",
    "5. Membership Operator\n",
    "6. Identity Operator\n",
    "7. Bitwise Operator\n",
    "8. Ternary Operator"
   ]
  },
  {
   "cell_type": "markdown",
   "metadata": {},
   "source": [
    "### 1. Arithmetic Operator:\n",
    "\n",
    "    +\t    Addition\n",
    "    -\t    Subtraction\n",
    "    *\t    Multiplication\n",
    "    /\t    Division (float result)\n",
    "    //\t    Floor Division (integer division)\n",
    "    %\t    Modulus (remainder)\n",
    "    **\t    Exponentiation (power)\n"
   ]
  },
  {
   "cell_type": "code",
   "execution_count": 5,
   "metadata": {},
   "outputs": [
    {
     "name": "stdout",
     "output_type": "stream",
     "text": [
      "Addition: 30\n",
      "\n",
      "Subtraction: 20\n",
      "\n",
      "Multiplication: 125\n",
      "\n",
      "Division: 5.0\n",
      "\n",
      "Floor Division: 3\n",
      "\n",
      "Modulus: 4\n",
      "\n",
      "Exponentiation: 625\n"
     ]
    }
   ],
   "source": [
    "a, b, c = 25, 5, 7\n",
    "\n",
    "# Addition\n",
    "print(f\"Addition: {a + b}\")\n",
    "\n",
    "print()\n",
    "\n",
    "# Subtraction\n",
    "print(f\"Subtraction: {a - b}\")\n",
    "\n",
    "print()\n",
    "\n",
    "# Multiplication\n",
    "print(f\"Multiplication: {a * b}\")\n",
    "\n",
    "print()\n",
    "\n",
    "# Division\n",
    "print(f\"Division: {a / b}\")\n",
    "\n",
    "print()\n",
    "\n",
    "# Floor Division\n",
    "print(f\"Floor Division: {a // c}\")\n",
    "\n",
    "print()\n",
    "\n",
    "# Modulus\n",
    "print(f\"Modulus: {a % c}\")\n",
    "\n",
    "print()\n",
    "\n",
    "# Exponentiation\n",
    "print(f\"Exponentiation: {a ** 2}\")"
   ]
  },
  {
   "cell_type": "markdown",
   "metadata": {},
   "source": [
    "### 2. Logical Operator:\n",
    "\n",
    "    and\t    Logical AND (both conditions must be True)\n",
    "    or\t    Logical OR (at least one condition must be True)\n",
    "    not\t    Logical NOT (negates the condition)"
   ]
  },
  {
   "cell_type": "code",
   "execution_count": 4,
   "metadata": {},
   "outputs": [
    {
     "name": "stdout",
     "output_type": "stream",
     "text": [
      "Logical AND: False\n",
      "Logical AND: True\n",
      "\n",
      "Logical OR: True\n",
      "\n",
      "Logical NOT: False\n",
      "Logical NOT: True\n"
     ]
    }
   ],
   "source": [
    "a, b = True, False\n",
    "\n",
    "# Logical AND\n",
    "print(f\"Logical AND: {a and b}\")\n",
    "print(f\"Logical AND: {a and a}\")\n",
    "\n",
    "print()\n",
    "\n",
    "# Logical OR\n",
    "print(f\"Logical OR: {a or b}\")\n",
    "\n",
    "print()\n",
    "\n",
    "# Logical NOT\n",
    "print(f\"Logical NOT: {not a}\")\n",
    "print(f\"Logical NOT: {not b}\")"
   ]
  },
  {
   "cell_type": "markdown",
   "metadata": {},
   "source": [
    "### 3. Comparison Operator:\n",
    "\n",
    "    ==\t    Equal to\n",
    "    !=\t    Not equal to\n",
    "    >\t    Greater than\n",
    "    <\t    Less than\n",
    "    >=\t    Greater than or equal to\n",
    "    <=\t    Less than or equal to"
   ]
  },
  {
   "cell_type": "code",
   "execution_count": 6,
   "metadata": {},
   "outputs": [
    {
     "name": "stdout",
     "output_type": "stream",
     "text": [
      "Equal Too: False\n",
      "Equal Too: True\n",
      "\n",
      "Not Equal To: True\n",
      "Not Equal To: True\n",
      "\n",
      "Greater than: True\n",
      "Greater than: False\n",
      "\n",
      "Less than: False\n",
      "Less than: True\n",
      "\n",
      "Greater than or Equal to: True\n",
      "Greater than Equal to: True\n",
      "\n",
      "Less than or Equal to: True\n",
      "Less than or Equal to: False\n"
     ]
    }
   ],
   "source": [
    "a, b, c = 100, 50, 100\n",
    "\n",
    "# Equal Too\n",
    "print(f\"Equal Too: {a == b}\")\n",
    "print(f\"Equal Too: {a == a}\")\n",
    "\n",
    "print()\n",
    "\n",
    "# Not Equal To\n",
    "print(f\"Not Equal To: {a != b}\")\n",
    "print(f\"Not Equal To: {a != b}\")\n",
    "\n",
    "print()\n",
    "\n",
    "# Greater than\n",
    "print(f\"Greater than: {a > b}\")\n",
    "print(f\"Greater than: {b > a}\")\n",
    "\n",
    "print()\n",
    "\n",
    "# Less than\n",
    "print(f\"Less than: {a < b}\")\n",
    "print(f\"Less than: {b < a}\")\n",
    "\n",
    "print()\n",
    "\n",
    "# Greater than or Equal to\n",
    "print(f\"Greater than or Equal to: {a >= c}\")\n",
    "print(f\"Greater than Equal to: {a >= b}\")\n",
    "\n",
    "print()\n",
    "\n",
    "# Less than or Equal too\n",
    "print(f\"Less than or Equal to: {a <= c}\")\n",
    "print(f\"Less than or Equal to: {a <= b}\")"
   ]
  },
  {
   "cell_type": "markdown",
   "metadata": {},
   "source": [
    "### 4. Assignement Operator:\n",
    "\n",
    "    =\t    Simple assignment\n",
    "    +=\t    Addition assignment\n",
    "    -=\t    Subtraction assignment\n",
    "    *=\t    Multiplication assignment\n",
    "    /=\t    Division assignment\n",
    "    //=\t    Floor division assignment\n",
    "    %=\t    Modulus assignment\n",
    "    **=\t    Exponentiation assignment"
   ]
  },
  {
   "cell_type": "code",
   "execution_count": 7,
   "metadata": {},
   "outputs": [
    {
     "name": "stdout",
     "output_type": "stream",
     "text": [
      "Simple Assignement: 25\n",
      "\n",
      "Addition Assignement: 30\n",
      "\n",
      "Subtraction Assignment: 25\n",
      "\n",
      "Multiplication Assignment: 125\n",
      "\n",
      "Multiplication Assignment: 25.0\n",
      "\n",
      "Floor Division Assignment: 8.0\n",
      "\n",
      "Modulus Assignment: 2.0\n",
      "\n",
      "Exponential Assignment: 8.0\n"
     ]
    }
   ],
   "source": [
    "a = 25\n",
    "\n",
    "# Simple Assignment\n",
    "b = a\n",
    "print(f\"Simple Assignement: {b}\")\n",
    "\n",
    "print()\n",
    "\n",
    "# Addition Assignment\n",
    "c = b + 5\n",
    "print(f\"Addition Assignement: {c}\")\n",
    "\n",
    "print()\n",
    "\n",
    "# Subtraction Assignment\n",
    "d = c - 5\n",
    "print(f\"Subtraction Assignment: {d}\")\n",
    "\n",
    "print()\n",
    "\n",
    "# Multiplication Assignment\n",
    "e = d * 5\n",
    "print(f\"Multiplication Assignment: {e}\")\n",
    "\n",
    "print()\n",
    "\n",
    "# Division Assignment\n",
    "f = e / 5\n",
    "print(f\"Multiplication Assignment: {f}\")\n",
    "\n",
    "print()\n",
    "\n",
    "# Floor Division Assignment\n",
    "g = f // 3\n",
    "print(f\"Floor Division Assignment: {g}\")\n",
    "\n",
    "print()\n",
    "\n",
    "# Modulus Assignment\n",
    "h = g % 3\n",
    "print(f\"Modulus Assignment: {h}\")\n",
    "\n",
    "print()\n",
    "\n",
    "# Exponentiatian Assignment\n",
    "i = h ** 3\n",
    "print(f\"Exponential Assignment: {i}\")"
   ]
  },
  {
   "cell_type": "markdown",
   "metadata": {},
   "source": [
    "### 5. Membership Operator:\n",
    "\n",
    "    in\t        True if value is found in the sequence\n",
    "    not in\t        True if value is not found in the sequence"
   ]
  },
  {
   "cell_type": "code",
   "execution_count": 8,
   "metadata": {},
   "outputs": [
    {
     "name": "stdout",
     "output_type": "stream",
     "text": [
      "'50' in [0, 5, 25, 50, 100]: True\n",
      "'25' in [0, 5, 25, 50, 100]: True\n",
      "\n",
      "'50' not in [0, 5, 25, 50, 100]: False\n",
      "'25' not in [0, 5, 25, 50, 100]: False\n"
     ]
    }
   ],
   "source": [
    "a, b = 50, 25\n",
    "\n",
    "my_list = [0,5,25,50,100]\n",
    "\n",
    "# 'in' membership operator\n",
    "print(f\"'{a}' in {my_list}: {a in my_list}\")\n",
    "print(f\"'{b}' in {my_list}: {b in my_list}\")\n",
    "\n",
    "print()\n",
    "\n",
    "# 'not in' membership operator\n",
    "print(f\"'{a}' not in {my_list}: {a not in my_list}\")\n",
    "print(f\"'{b}' not in {my_list}: {b not in my_list}\")"
   ]
  },
  {
   "cell_type": "markdown",
   "metadata": {},
   "source": [
    "### 6. Identity Operator:\n",
    "\n",
    "    is\t        True if both variables refer to the same object\tx is y (True if x and y are the same object)\n",
    "    is not\t    True if both variables do not refer to the same object"
   ]
  },
  {
   "cell_type": "code",
   "execution_count": 9,
   "metadata": {},
   "outputs": [
    {
     "name": "stdout",
     "output_type": "stream",
     "text": [
      "'Python' is 'Python': True\n",
      "'Python' is 'Python': True\n",
      "'Python' is not 'Python': False\n",
      "'Python' is not 'Python': False\n"
     ]
    }
   ],
   "source": [
    "a = \"Python\"\n",
    "b = \"Python\"\n",
    "\n",
    "# 'is' identity operator\n",
    "print(f\"'{a}' is '{b}': {a is b}\")\n",
    "print(f\"'{b}' is '{a}': {b is a}\")\n",
    "\n",
    "# 'is not' identity operator\n",
    "print(f\"'{a}' is not '{b}': {a is not b}\")\n",
    "print(f\"'{b}' is not '{a}': {b is not a}\")"
   ]
  },
  {
   "cell_type": "markdown",
   "metadata": {},
   "source": [
    "### 7. Bitwise Operator:\n",
    "\n",
    "    &\tBitwise AND\n",
    "    |       Bitwise OR\n",
    "    ~       Bitwise NOT"
   ]
  },
  {
   "cell_type": "code",
   "execution_count": 11,
   "metadata": {},
   "outputs": [
    {
     "name": "stdout",
     "output_type": "stream",
     "text": [
      "Logical AND: False\n",
      "Logical AND: True\n",
      "\n",
      "Logical OR: True\n",
      "\n",
      "Logical NOT: -2\n",
      "Logical NOT: -1\n"
     ]
    },
    {
     "name": "stderr",
     "output_type": "stream",
     "text": [
      "C:\\Users\\91960\\AppData\\Local\\Temp\\ipykernel_20280\\3059054444.py:15: DeprecationWarning: Bitwise inversion '~' on bool is deprecated. This returns the bitwise inversion of the underlying int object and is usually not what you expect from negating a bool. Use the 'not' operator for boolean negation or ~int(x) if you really want the bitwise inversion of the underlying int.\n",
      "  print(f\"Logical NOT: {~a}\")\n",
      "C:\\Users\\91960\\AppData\\Local\\Temp\\ipykernel_20280\\3059054444.py:16: DeprecationWarning: Bitwise inversion '~' on bool is deprecated. This returns the bitwise inversion of the underlying int object and is usually not what you expect from negating a bool. Use the 'not' operator for boolean negation or ~int(x) if you really want the bitwise inversion of the underlying int.\n",
      "  print(f\"Logical NOT: {~b}\")\n"
     ]
    }
   ],
   "source": [
    "a, b = True, False\n",
    "\n",
    "# Logical AND\n",
    "print(f\"Logical AND: {a & b}\")\n",
    "print(f\"Logical AND: {a & a}\")\n",
    "\n",
    "print()\n",
    "\n",
    "# Logical OR\n",
    "print(f\"Logical OR: {a | b}\")\n",
    "\n",
    "print()\n",
    "\n",
    "# Logical NOT\n",
    "print(f\"Logical NOT: {~a}\")\n",
    "print(f\"Logical NOT: {~b}\")"
   ]
  },
  {
   "cell_type": "markdown",
   "metadata": {},
   "source": [
    "### 8. Ternary Operator:\n",
    "\n",
    "    x if condition else y\t    Returns x if the condition is True, otherwise returns y"
   ]
  },
  {
   "cell_type": "code",
   "execution_count": 15,
   "metadata": {},
   "outputs": [
    {
     "name": "stdout",
     "output_type": "stream",
     "text": [
      "'10' if a > b else '20': 20 is greater\n"
     ]
    }
   ],
   "source": [
    "a, b = 10, 20\n",
    "\n",
    "result = a if a > b else b\n",
    "print(f\"'{a}' if a > b else '{b}': {result} is greater\")"
   ]
  }
 ],
 "metadata": {
  "kernelspec": {
   "display_name": "python_ipynb",
   "language": "python",
   "name": "python3"
  },
  "language_info": {
   "codemirror_mode": {
    "name": "ipython",
    "version": 3
   },
   "file_extension": ".py",
   "mimetype": "text/x-python",
   "name": "python",
   "nbconvert_exporter": "python",
   "pygments_lexer": "ipython3",
   "version": "3.12.1"
  }
 },
 "nbformat": 4,
 "nbformat_minor": 2
}
