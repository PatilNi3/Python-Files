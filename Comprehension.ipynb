{
 "cells": [
  {
   "cell_type": "markdown",
   "metadata": {},
   "source": [
    "# Comprehension\n",
    "\n",
    "Comprehension in Python provide us with a short and concise way to construct new sequences (such as list, set, dictiionaries) using previously defined sequences.\n",
    "\n",
    "Comprehensions allow you to generate and manipulate collections in more readable and efficient manner compared to traditional loops."
   ]
  },
  {
   "cell_type": "markdown",
   "metadata": {},
   "source": [
    "### Python supports the following 4 types of Comprehensions:\n",
    "\n",
    "1. List Comprehension\n",
    "2. Set Comprehension\n",
    "3. Dictionary Comprehension\n",
    "4. Generator Comprehension"
   ]
  },
  {
   "cell_type": "markdown",
   "metadata": {},
   "source": [
    "## 1. List Comprehension\n",
    "\n",
    "List Comprehension is used to create new list by applying expressions and filter conditions (optional) to pre-defined iterables.\n",
    "\n",
    "##### Syntax:\n",
    "\n",
    "[expression **for** item **in** iterable **if** condition]"
   ]
  },
  {
   "cell_type": "code",
   "execution_count": 37,
   "metadata": {},
   "outputs": [
    {
     "name": "stdout",
     "output_type": "stream",
     "text": [
      "2\n",
      "4\n",
      "6\n",
      "8\n",
      "10\n",
      "12\n",
      "14\n",
      "16\n",
      "18\n",
      "20\n"
     ]
    }
   ],
   "source": [
    "# without list comprehension\n",
    "\n",
    "my_list = [1,2,3,4,5,6,7,8,9,10]\n",
    "\n",
    "for item in my_list:\n",
    "    print(item*2)"
   ]
  },
  {
   "cell_type": "code",
   "execution_count": 38,
   "metadata": {},
   "outputs": [
    {
     "data": {
      "text/plain": [
       "[2, 4, 6, 8, 10, 12, 14, 16, 18, 20]"
      ]
     },
     "execution_count": 38,
     "metadata": {},
     "output_type": "execute_result"
    }
   ],
   "source": [
    "# with list comprehension\n",
    "\n",
    "new_list = [item*2 for item in my_list]\n",
    "new_list"
   ]
  },
  {
   "cell_type": "code",
   "execution_count": 39,
   "metadata": {},
   "outputs": [
    {
     "data": {
      "text/plain": [
       "[4, 16, 36, 64, 100]"
      ]
     },
     "execution_count": 39,
     "metadata": {},
     "output_type": "execute_result"
    }
   ],
   "source": [
    "# list comprehension with condition\n",
    "\n",
    "new_list = [item**2 for item in my_list if item % 2 == 0]\n",
    "new_list"
   ]
  },
  {
   "cell_type": "code",
   "execution_count": 40,
   "metadata": {},
   "outputs": [
    {
     "data": {
      "text/plain": [
       "['PYTHON', 'SQL', 'DATA ANALYST', 'MACHINE LEARNING', 'DATA SCIENCE']"
      ]
     },
     "execution_count": 40,
     "metadata": {},
     "output_type": "execute_result"
    }
   ],
   "source": [
    "# list comprehension to upper the elements of list\n",
    "\n",
    "my_list = [\"python\", \"sql\", \"data analyst\", \"machine learning\", \"data science\"]\n",
    "\n",
    "upper_list = [element.upper() for element in my_list]\n",
    "upper_list"
   ]
  },
  {
   "cell_type": "code",
   "execution_count": 41,
   "metadata": {},
   "outputs": [
    {
     "data": {
      "text/plain": [
       "[3, 5, 6, 9, 10, 12, 15, 18, 20]"
      ]
     },
     "execution_count": 41,
     "metadata": {},
     "output_type": "execute_result"
    }
   ],
   "source": [
    "# list comprehension with multiple conditions\n",
    "\n",
    "# Create a list of numbers from 1 to 20 that are divisible by 3 or 5.\n",
    "\n",
    "new_list = [item for item in range(1,21) if item % 3 == 0 or item % 5 == 0]\n",
    "new_list"
   ]
  },
  {
   "cell_type": "code",
   "execution_count": 42,
   "metadata": {},
   "outputs": [
    {
     "data": {
      "text/plain": [
       "[1, 2, 3, 4, 5, 6, 7, 8, 9]"
      ]
     },
     "execution_count": 42,
     "metadata": {},
     "output_type": "execute_result"
    }
   ],
   "source": [
    "# nested list comprehension\n",
    "\n",
    "matrix = [[1,2,3],[4,5,6],[7,8,9]]\n",
    "\n",
    "new_list = [element for item in matrix for element in item]\n",
    "new_list"
   ]
  },
  {
   "cell_type": "code",
   "execution_count": 43,
   "metadata": {},
   "outputs": [
    {
     "data": {
      "text/plain": [
       "['o', 'o', 'a', 'i', 'a', 'u', 'a', 'e']"
      ]
     },
     "execution_count": 43,
     "metadata": {},
     "output_type": "execute_result"
    }
   ],
   "source": [
    "# list comprehension with string manipulation\n",
    "\n",
    "string = \"Python Programming Language\"\n",
    "\n",
    "vowels_list = [letter for letter in string if letter in \"aeiouAEIOU\"]\n",
    "vowels_list"
   ]
  },
  {
   "cell_type": "code",
   "execution_count": 44,
   "metadata": {},
   "outputs": [
    {
     "data": {
      "text/plain": [
       "['Name', 'Age', 'City']"
      ]
     },
     "execution_count": 44,
     "metadata": {},
     "output_type": "execute_result"
    }
   ],
   "source": [
    "# extracting keys from dictionary using list comprehension\n",
    "\n",
    "dictionary = {\"Name\":\"Tony Stark\", \"Age\":35, \"City\":\"Malibu\"}\n",
    "\n",
    "key_list = [key for key, value in dictionary.items()]\n",
    "key_list"
   ]
  },
  {
   "cell_type": "code",
   "execution_count": 45,
   "metadata": {},
   "outputs": [
    {
     "data": {
      "text/plain": [
       "[('Tony Stark', 35), ('Peter Parker', 15), (\"T'Challa\", 35)]"
      ]
     },
     "execution_count": 45,
     "metadata": {},
     "output_type": "execute_result"
    }
   ],
   "source": [
    "# list comprehension with zip()\n",
    "\n",
    "Name = [\"Tony Stark\", \"Peter Parker\", \"T'Challa\"]\n",
    "Age = [35, 15, 35]\n",
    "\n",
    "new_list = [(i, j) for i, j in zip(Name, Age)]\n",
    "new_list"
   ]
  },
  {
   "cell_type": "markdown",
   "metadata": {},
   "source": [
    "## 2. Set Comprehension\n",
    "\n",
    "Set Comprehension is similar to list comprehension but it creates a set which eliminates duplicate elements.\n",
    "\n",
    "The only difference between them is that set comprehensions use curly brackets { }\n",
    "\n",
    "##### Syntax:\n",
    "\n",
    "{expression **for** item **in** iterable **if** condition}"
   ]
  },
  {
   "cell_type": "code",
   "execution_count": 54,
   "metadata": {},
   "outputs": [
    {
     "data": {
      "text/plain": [
       "{0, 1, 2, 3, 4, 5}"
      ]
     },
     "execution_count": 54,
     "metadata": {},
     "output_type": "execute_result"
    }
   ],
   "source": [
    "# removes duplicate from list using set comprehension\n",
    "\n",
    "my_set = [0,1,2,2,3,3,3,4,4,4,4,5,5,5,5,5]\n",
    "\n",
    "new_set = {item for item in my_set}\n",
    "new_set"
   ]
  },
  {
   "cell_type": "code",
   "execution_count": 47,
   "metadata": {},
   "outputs": [
    {
     "data": {
      "text/plain": [
       "{2, 4, 6, 8, 10, 12, 14, 16, 18, 20}"
      ]
     },
     "execution_count": 47,
     "metadata": {},
     "output_type": "execute_result"
    }
   ],
   "source": [
    "# set comprehension with condition\n",
    "\n",
    "new_set = {item for item in range(1,21) if item % 2 == 0}\n",
    "new_set"
   ]
  },
  {
   "cell_type": "code",
   "execution_count": 48,
   "metadata": {},
   "outputs": [
    {
     "data": {
      "text/plain": [
       "{'DATA ANALYST', 'DATA SCIENCE', 'MACHINE LEARNING', 'PYTHON', 'SQL'}"
      ]
     },
     "execution_count": 48,
     "metadata": {},
     "output_type": "execute_result"
    }
   ],
   "source": [
    "# set comprehension to upper the elements of list\n",
    "\n",
    "my_set = {\"python\", \"sql\", \"data analyst\", \"machine learning\", \"data science\"}\n",
    "\n",
    "new_set = {element.upper() for element in my_list}\n",
    "new_set"
   ]
  },
  {
   "cell_type": "code",
   "execution_count": 49,
   "metadata": {},
   "outputs": [
    {
     "data": {
      "text/plain": [
       "{3, 5, 6, 9, 10, 12, 15, 18, 20}"
      ]
     },
     "execution_count": 49,
     "metadata": {},
     "output_type": "execute_result"
    }
   ],
   "source": [
    "# set comprehension with multiple conditions\n",
    "\n",
    "# Create a set of numbers from 1 to 20 that are divisible by 3 or 5.\n",
    "\n",
    "new_set = {item for item in range(1,21) if item % 3 == 0 or item % 5 == 0}\n",
    "new_set"
   ]
  },
  {
   "cell_type": "code",
   "execution_count": 50,
   "metadata": {},
   "outputs": [
    {
     "data": {
      "text/plain": [
       "{'a', 'e', 'i', 'o', 'u'}"
      ]
     },
     "execution_count": 50,
     "metadata": {},
     "output_type": "execute_result"
    }
   ],
   "source": [
    "# set comprehension with string manipulation\n",
    "\n",
    "string = \"Python Programming Language\"\n",
    "\n",
    "vowels_set = {letter for letter in string if letter in \"aeiouAEIOU\"}\n",
    "vowels_set"
   ]
  },
  {
   "cell_type": "code",
   "execution_count": 51,
   "metadata": {},
   "outputs": [
    {
     "data": {
      "text/plain": [
       "{'Age', 'City', 'Name'}"
      ]
     },
     "execution_count": 51,
     "metadata": {},
     "output_type": "execute_result"
    }
   ],
   "source": [
    "# extracting keys from dictionary using set comprehension\n",
    "\n",
    "dictionary = {\"Name\":\"Tony Stark\", \"Age\":35, \"City\":\"Malibu\"}\n",
    "\n",
    "key_set = {key for key, value in dictionary.items()}\n",
    "key_set"
   ]
  },
  {
   "cell_type": "code",
   "execution_count": 55,
   "metadata": {},
   "outputs": [
    {
     "data": {
      "text/plain": [
       "{'a', 'b', 'c', 'e', 'h', 'l', 'n', 'p', 'r', 'y'}"
      ]
     },
     "execution_count": 55,
     "metadata": {},
     "output_type": "execute_result"
    }
   ],
   "source": [
    "# creating a set of unique characters from list\n",
    "\n",
    "my_list = [\"apple\", \"banana\", \"cherry\"]\n",
    "\n",
    "unique_char = {char for word in my_list for char in word}\n",
    "unique_char"
   ]
  },
  {
   "cell_type": "markdown",
   "metadata": {},
   "source": [
    "## 3. Dictionary Comprehension\n",
    "\n",
    "Dictionary Comprehension creates a dictionary where you can specify both keys and values in a concise manner.\n",
    "\n",
    "##### Syntax:\n",
    "\n",
    "{key_expression : value_expression **for** item **in** iterable **if** condition}"
   ]
  },
  {
   "cell_type": "code",
   "execution_count": 56,
   "metadata": {},
   "outputs": [
    {
     "data": {
      "text/plain": [
       "{1: 1, 2: 4, 3: 9, 4: 16, 5: 25, 6: 36, 7: 49, 8: 64, 9: 81, 10: 100}"
      ]
     },
     "execution_count": 56,
     "metadata": {},
     "output_type": "execute_result"
    }
   ],
   "source": [
    "square_dictionary = {item:item**2 for item in range(1,11)}\n",
    "square_dictionary"
   ]
  },
  {
   "cell_type": "code",
   "execution_count": 57,
   "metadata": {},
   "outputs": [
    {
     "data": {
      "text/plain": [
       "{3: 27,\n",
       " 6: 216,\n",
       " 9: 729,\n",
       " 12: 1728,\n",
       " 15: 3375,\n",
       " 18: 5832,\n",
       " 21: 9261,\n",
       " 24: 13824,\n",
       " 27: 19683,\n",
       " 30: 27000}"
      ]
     },
     "execution_count": 57,
     "metadata": {},
     "output_type": "execute_result"
    }
   ],
   "source": [
    "# dictionary comprehension with condition\n",
    "\n",
    "my_dict = {i:i**3 for i in range(1,31) if i % 3 == 0}\n",
    "my_dict"
   ]
  },
  {
   "cell_type": "code",
   "execution_count": 58,
   "metadata": {},
   "outputs": [
    {
     "data": {
      "text/plain": [
       "{'Apple': 5, 'Banana': 6, 'Cherry': 6}"
      ]
     },
     "execution_count": 58,
     "metadata": {},
     "output_type": "execute_result"
    }
   ],
   "source": [
    "# using function in a dictionary comprehension\n",
    "\n",
    "my_list = [\"Apple\", \"Banana\", \"Cherry\"]\n",
    "\n",
    "my_dict = {i:len(i) for i in my_list}\n",
    "my_dict"
   ]
  },
  {
   "cell_type": "code",
   "execution_count": 60,
   "metadata": {},
   "outputs": [
    {
     "data": {
      "text/plain": [
       "{10: 20,\n",
       " 20: 40,\n",
       " 30: 60,\n",
       " 40: 80,\n",
       " 50: 100,\n",
       " 60: 120,\n",
       " 70: 140,\n",
       " 80: 160,\n",
       " 90: 180,\n",
       " 100: 200}"
      ]
     },
     "execution_count": 60,
     "metadata": {},
     "output_type": "execute_result"
    }
   ],
   "source": [
    "# create dictionary with multiple condition\n",
    "\n",
    "my_dict = {item:item*2 for item in range(1,101) if item % 2 == 0 and item % 5 == 0}\n",
    "my_dict"
   ]
  },
  {
   "cell_type": "code",
   "execution_count": 61,
   "metadata": {},
   "outputs": [
    {
     "data": {
      "text/plain": [
       "{-2: 'negative', -1: 'negative', 0: 'zero', 1: 'positive', 2: 'positive'}"
      ]
     },
     "execution_count": 61,
     "metadata": {},
     "output_type": "execute_result"
    }
   ],
   "source": [
    "# create a dictionary with conditional key-value pairing\n",
    "\n",
    "numbers = [-2,-1,0,1,2]\n",
    "\n",
    "classification = {x: ('positive' if x > 0 else 'negative' if x < 0 else 'zero') for x in numbers}\n",
    "classification"
   ]
  },
  {
   "cell_type": "code",
   "execution_count": 62,
   "metadata": {},
   "outputs": [
    {
     "data": {
      "text/plain": [
       "{'a': 1, 'b': 2, 'c': 3}"
      ]
     },
     "execution_count": 62,
     "metadata": {},
     "output_type": "execute_result"
    }
   ],
   "source": [
    "# dictionary comprehension with zip\n",
    "\n",
    "keys = ['a', 'b', 'c']\n",
    "values = [1, 2, 3]\n",
    "\n",
    "result = {k: v for k, v in zip(keys, values)}\n",
    "\n",
    "result"
   ]
  },
  {
   "cell_type": "markdown",
   "metadata": {},
   "source": [
    "## 4. Generator Comprehension\n",
    "\n",
    "A generator comprehension is similar to a list comprehension but returns a generator object, which is more memory-efficient because it generates items lazily.\n",
    "\n",
    "##### Syntax:\n",
    "\n",
    "(expression **for** item **in** iterable **if** condition)"
   ]
  },
  {
   "cell_type": "code",
   "execution_count": 63,
   "metadata": {},
   "outputs": [
    {
     "name": "stdout",
     "output_type": "stream",
     "text": [
      "0\n",
      "1\n",
      "2\n",
      "3\n",
      "4\n",
      "5\n",
      "6\n",
      "7\n",
      "8\n",
      "9\n",
      "10\n"
     ]
    }
   ],
   "source": [
    "number_generator = (item for item in range(11))\n",
    "\n",
    "for number in number_generator:\n",
    "    print(number)"
   ]
  },
  {
   "cell_type": "code",
   "execution_count": 64,
   "metadata": {},
   "outputs": [
    {
     "name": "stdout",
     "output_type": "stream",
     "text": [
      "0\n",
      "4\n",
      "16\n",
      "36\n",
      "64\n"
     ]
    }
   ],
   "source": [
    "# generator comprehension with a conditional expression\n",
    "\n",
    "even_square_generator = (x**2 for x in range(10) if x % 2 == 0)\n",
    "\n",
    "for number in even_square_generator:\n",
    "    print(number)"
   ]
  },
  {
   "cell_type": "code",
   "execution_count": 65,
   "metadata": {},
   "outputs": [
    {
     "data": {
      "text/plain": [
       "4950"
      ]
     },
     "execution_count": 65,
     "metadata": {},
     "output_type": "execute_result"
    }
   ],
   "source": [
    "# using generator to sum large sequence\n",
    "\n",
    "total_sum = sum(x for x in range(100))\n",
    "total_sum"
   ]
  },
  {
   "cell_type": "code",
   "execution_count": 67,
   "metadata": {},
   "outputs": [
    {
     "name": "stdout",
     "output_type": "stream",
     "text": [
      "0\n",
      "3\n",
      "6\n",
      "9\n",
      "12\n",
      "15\n",
      "18\n",
      "21\n",
      "24\n",
      "27\n",
      "30\n",
      "33\n",
      "36\n",
      "39\n",
      "42\n",
      "45\n",
      "48\n",
      "51\n",
      "54\n",
      "57\n",
      "60\n",
      "63\n",
      "66\n",
      "69\n",
      "72\n",
      "75\n",
      "78\n",
      "81\n",
      "84\n",
      "87\n",
      "90\n",
      "93\n",
      "96\n",
      "99\n"
     ]
    }
   ],
   "source": [
    "# generator for filtering odd numbers\n",
    "\n",
    "odd_numbers = (x for x in range(101) if x % 3 == 0)\n",
    "\n",
    "for odd in odd_numbers:\n",
    "    print(odd)"
   ]
  },
  {
   "cell_type": "code",
   "execution_count": 68,
   "metadata": {},
   "outputs": [
    {
     "name": "stdout",
     "output_type": "stream",
     "text": [
      "('Alice', 25)\n",
      "('Bob', 30)\n",
      "('Charlie', 35)\n"
     ]
    }
   ],
   "source": [
    "# creating a Generator Comprehension from Multiple Lists (Zip)\n",
    "\n",
    "names = [\"Alice\", \"Bob\", \"Charlie\"]\n",
    "ages = [25, 30, 35]\n",
    "\n",
    "pair_gen = ((name, age) for name, age in zip(names, ages))\n",
    "\n",
    "for pair in pair_gen:\n",
    "    print(pair)"
   ]
  },
  {
   "cell_type": "code",
   "execution_count": 69,
   "metadata": {},
   "outputs": [
    {
     "name": "stdout",
     "output_type": "stream",
     "text": [
      "(0, 0)\n",
      "(0, 1)\n",
      "(0, 2)\n",
      "(1, 0)\n",
      "(1, 1)\n",
      "(1, 2)\n",
      "(2, 0)\n",
      "(2, 1)\n",
      "(2, 2)\n"
     ]
    }
   ],
   "source": [
    "# nested Generator Comprehension\n",
    "\n",
    "pairs_gen = ((x, y) for x in range(3) for y in range(3))\n",
    "\n",
    "for pair in pairs_gen:\n",
    "    print(pair)"
   ]
  },
  {
   "cell_type": "code",
   "execution_count": 70,
   "metadata": {},
   "outputs": [
    {
     "name": "stdout",
     "output_type": "stream",
     "text": [
      "1\n",
      "2\n",
      "3\n",
      "4\n",
      "5\n",
      "6\n"
     ]
    }
   ],
   "source": [
    "# generator comprehension to Extract Digits from a String\n",
    "\n",
    "text = \"Hello123World456\"\n",
    "\n",
    "digits_gen = (char for char in text if char.isdigit())\n",
    "\n",
    "for digit in digits_gen:\n",
    "    print(digit)"
   ]
  },
  {
   "cell_type": "code",
   "execution_count": 71,
   "metadata": {},
   "outputs": [
    {
     "name": "stdout",
     "output_type": "stream",
     "text": [
      "e\n",
      "e\n",
      "a\n",
      "o\n",
      "o\n",
      "e\n",
      "e\n",
      "i\n",
      "o\n"
     ]
    }
   ],
   "source": [
    "# generator comprehension for Extracting Vowels from a String\n",
    "\n",
    "text = \"Generator Comprehension\"\n",
    "\n",
    "vowels_gen = (char for char in text if char in 'aeiouAEIOU')\n",
    "\n",
    "for vowel in vowels_gen:\n",
    "    print(vowel)"
   ]
  }
 ],
 "metadata": {
  "kernelspec": {
   "display_name": "python_ipynb",
   "language": "python",
   "name": "python3"
  },
  "language_info": {
   "codemirror_mode": {
    "name": "ipython",
    "version": 3
   },
   "file_extension": ".py",
   "mimetype": "text/x-python",
   "name": "python",
   "nbconvert_exporter": "python",
   "pygments_lexer": "ipython3",
   "version": "3.12.1"
  }
 },
 "nbformat": 4,
 "nbformat_minor": 2
}
