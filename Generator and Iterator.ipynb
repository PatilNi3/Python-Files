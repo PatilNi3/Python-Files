{
 "cells": [
  {
   "cell_type": "markdown",
   "metadata": {},
   "source": [
    "# Generator and Iterator"
   ]
  },
  {
   "cell_type": "markdown",
   "metadata": {},
   "source": [
    "# Generator\n",
    "\n",
    "A Generator function in python is defined using the 'def' keyword, but instead of returning a value with 'return', a generator function uses the 'yield' keyword to produce a value. Every time the 'yield statement' is executed, the function state is saved, and the value is returned to the caller. When the function is called again, it picks up where it left off.\n",
    "\n",
    "Generator generates value on the fly, once at a time, as you loop over it. This makes generators more memory-efficient, especially when dealing with large datasets or streams of data."
   ]
  },
  {
   "cell_type": "code",
   "execution_count": 3,
   "metadata": {},
   "outputs": [
    {
     "name": "stdout",
     "output_type": "stream",
     "text": [
      "1\n",
      "2\n",
      "3\n"
     ]
    }
   ],
   "source": [
    "# simple example\n",
    "\n",
    "def my_generator():\n",
    "    \n",
    "    yield 1\n",
    "    yield 2\n",
    "    yield 3\n",
    "\n",
    "# iterate over generator\n",
    "for element in my_generator():\n",
    "    print(element)"
   ]
  },
  {
   "cell_type": "markdown",
   "metadata": {},
   "source": [
    "##### Generator Object\n",
    "\n",
    "Python Generator functions return a generator object that is iterable, i.e., can be used as an Iterator.\n",
    "\n",
    "Generator objects are used either by calling the 'next' method of the generator or by using generator object in 'for...in' loop."
   ]
  },
  {
   "cell_type": "code",
   "execution_count": 5,
   "metadata": {},
   "outputs": [
    {
     "name": "stdout",
     "output_type": "stream",
     "text": [
      "1\n",
      "2\n",
      "3\n"
     ]
    }
   ],
   "source": [
    "# generator object with next() method\n",
    "\n",
    "def my_generator():\n",
    "\n",
    "    yield 1\n",
    "    yield 2\n",
    "    yield 3\n",
    "\n",
    "my_gen_obj = my_generator()\n",
    "\n",
    "print(next(my_gen_obj))\n",
    "print(next(my_gen_obj))\n",
    "print(next(my_gen_obj))"
   ]
  },
  {
   "cell_type": "code",
   "execution_count": 6,
   "metadata": {},
   "outputs": [
    {
     "name": "stdout",
     "output_type": "stream",
     "text": [
      "1\n",
      "2\n",
      "3\n"
     ]
    }
   ],
   "source": [
    "# generator object with 'for..in' loop\n",
    "\n",
    "def my_generator():\n",
    "\n",
    "    yield 1\n",
    "    yield 2\n",
    "    yield 3\n",
    "\n",
    "my_gen_obj = my_generator()\n",
    "\n",
    "for item in my_gen_obj:\n",
    "    print(item)"
   ]
  },
  {
   "cell_type": "markdown",
   "metadata": {},
   "source": [
    "##### More Example on Generator"
   ]
  },
  {
   "cell_type": "code",
   "execution_count": 7,
   "metadata": {},
   "outputs": [
    {
     "name": "stdout",
     "output_type": "stream",
     "text": [
      "1\n",
      "1\n",
      "2\n",
      "3\n",
      "5\n",
      "8\n"
     ]
    }
   ],
   "source": [
    "# fibonacci series\n",
    "\n",
    "def fibonacci(limit):\n",
    "\n",
    "    a, b = 0, 1\n",
    "\n",
    "    while b < limit:\n",
    "        \n",
    "        yield b\n",
    "\n",
    "        a, b = b, a+b\n",
    "\n",
    "fib_obj = fibonacci(10)\n",
    "\n",
    "for item in fib_obj:\n",
    "    print(item)"
   ]
  },
  {
   "cell_type": "code",
   "execution_count": 11,
   "metadata": {},
   "outputs": [
    {
     "name": "stdout",
     "output_type": "stream",
     "text": [
      "0\n",
      "2\n",
      "4\n",
      "6\n",
      "8\n",
      "10\n",
      "12\n",
      "14\n",
      "16\n",
      "18\n",
      "20\n"
     ]
    }
   ],
   "source": [
    "# filtering even numbers\n",
    "\n",
    "def even_number(num):\n",
    "\n",
    "    for element in range(num):\n",
    "\n",
    "        if element % 2 == 0:\n",
    "\n",
    "            yield element\n",
    "\n",
    "even_num_obj = even_number(21)\n",
    "\n",
    "for item in even_num_obj:\n",
    "    print(item)"
   ]
  },
  {
   "cell_type": "code",
   "execution_count": 14,
   "metadata": {},
   "outputs": [
    {
     "name": "stdout",
     "output_type": "stream",
     "text": [
      "Line 1\n",
      "Line 2\n",
      "Line 3\n",
      "Line 4\n",
      "Line 5\n",
      "Line 6\n",
      "Line 7\n",
      "Line 8\n",
      "Line 9\n",
      "Line 10\n",
      "Line 11\n",
      "Line 12\n",
      "Line 13\n"
     ]
    }
   ],
   "source": [
    "# reading a file line by line\n",
    "\n",
    "def read_file(filename):\n",
    "\n",
    "    with open(filename, 'r') as fp:\n",
    "\n",
    "        for line in fp:\n",
    "            yield line.strip()\n",
    "\n",
    "read_file_obj = read_file('example.txt')\n",
    "\n",
    "for item in read_file_obj:\n",
    "    print(item)"
   ]
  },
  {
   "cell_type": "markdown",
   "metadata": {},
   "source": [
    "----------------------------------------------------------------------------------------------------------------------------------------------------------------------------------"
   ]
  },
  {
   "cell_type": "markdown",
   "metadata": {},
   "source": [
    "# Iterator\n",
    "\n",
    "An Iterator in Python is an object that is used to iterate over iterable objects like lists, tuples, dicts and sets. The Python iterators object is initialized using the iter() method. It uses the next() method for iteration.\n",
    "\n",
    "1. __iter__(): The iter() method is called for the intialization of an iterator.\n",
    "2. __next__(): The next() method returns the next value for the iterable. \n",
    "\n",
    "When we use a for loop to traverse any iterable object, internally it uses the iter() method to get an iterator object, which further uses the next() method to iterate over.\n",
    "\n",
    "This method raises the 'StopIteration' to signal the end of the iteration."
   ]
  },
  {
   "cell_type": "code",
   "execution_count": 15,
   "metadata": {},
   "outputs": [
    {
     "name": "stdout",
     "output_type": "stream",
     "text": [
      "0\n",
      "1\n",
      "2\n",
      "3\n",
      "4\n"
     ]
    }
   ],
   "source": [
    "numbers = [0,1,2,3,4,5,6,7,8,9]\n",
    "\n",
    "iterator = iter(numbers)\n",
    "\n",
    "print(next(iterator))\n",
    "print(next(iterator))\n",
    "print(next(iterator))\n",
    "print(next(iterator))\n",
    "print(next(iterator))"
   ]
  },
  {
   "cell_type": "code",
   "execution_count": 16,
   "metadata": {},
   "outputs": [
    {
     "name": "stdout",
     "output_type": "stream",
     "text": [
      "0\n",
      "1\n",
      "2\n",
      "3\n",
      "4\n",
      "5\n"
     ]
    }
   ],
   "source": [
    "class Counter:\n",
    "\n",
    "    def __init__(self, low, high):\n",
    "        self.low = low\n",
    "        self.high = high\n",
    "\n",
    "    def __iter__(self):\n",
    "        return self\n",
    "    \n",
    "    def __next__(self):\n",
    "        if self.low > self.high:\n",
    "            raise StopIteration\n",
    "        else:\n",
    "            self.low += 1\n",
    "            return self.low - 1\n",
    "        \n",
    "count = Counter(0, 5)\n",
    "\n",
    "for num in count:\n",
    "    print(num)"
   ]
  },
  {
   "cell_type": "markdown",
   "metadata": {},
   "source": [
    "##### Examples of Iterator:\n",
    "\n",
    "1. map\n",
    "2. filter\n",
    "3. range\n",
    "4. generators"
   ]
  }
 ],
 "metadata": {
  "kernelspec": {
   "display_name": "python_ipynb",
   "language": "python",
   "name": "python3"
  },
  "language_info": {
   "codemirror_mode": {
    "name": "ipython",
    "version": 3
   },
   "file_extension": ".py",
   "mimetype": "text/x-python",
   "name": "python",
   "nbconvert_exporter": "python",
   "pygments_lexer": "ipython3",
   "version": "3.12.1"
  }
 },
 "nbformat": 4,
 "nbformat_minor": 2
}
