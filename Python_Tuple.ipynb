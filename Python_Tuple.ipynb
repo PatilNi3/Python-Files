{
 "cells": [
  {
   "cell_type": "markdown",
   "metadata": {},
   "source": [
    "# Tuple\n",
    "\n",
    "A Tuple in Python is an ordered, immutable collection of items. tuples are similar to list, but ulike lists, they cannot be changed after they are creaeted because they are immutable. Tuples can store elements of different data types, including integers, strings, lists, and other tuples."
   ]
  },
  {
   "cell_type": "markdown",
   "metadata": {},
   "source": [
    "### Characteristics of Tuple:\n",
    "\n",
    "**1. Ordered:** The items in a tuple have a defined order.\n",
    "\n",
    "**2. Immutable:** Once a tuple is created, its elements cannot be modified, added or removed.\n",
    "\n",
    "**3. Duplicates are Allowed:** Tuples can contain duplicate elements.\n",
    "\n",
    "**4. Hetrogeneous:** Tuple can have items of different data types (e.g., integer, string, list, boolean, etc.)"
   ]
  },
  {
   "cell_type": "markdown",
   "metadata": {},
   "source": [
    "### Creating Tuple:\n",
    "\n",
    "To create tuple, you use parenthesis (), with elements separated by comma."
   ]
  },
  {
   "cell_type": "code",
   "execution_count": 1,
   "metadata": {},
   "outputs": [],
   "source": [
    "my_tuple = (1, 2, \"Yes\", \"No\", True, False, 5.5, 25.5)"
   ]
  },
  {
   "cell_type": "markdown",
   "metadata": {},
   "source": [
    "### Tuple Operations: Accessing Elements"
   ]
  },
  {
   "cell_type": "markdown",
   "metadata": {},
   "source": [
    "### slicing:\n",
    "\n",
    "Python slicing is a powerful feature that allows you to access a subset or portion of a sequence (like a list, string, tuple, or other iterable) without modifying the original sequence. It allows you to extract a range of elements from a sequence by specifying start, stop, and step values."
   ]
  },
  {
   "cell_type": "code",
   "execution_count": 2,
   "metadata": {},
   "outputs": [],
   "source": [
    "T1 = ('Python', 7, True, [1, 2, 3], [5.5, 25.5, 555.5], ('Yes', 'No'), (True, ['AI', 'ML', ['Data Analysis', \"Data Science\"], 'DL', ['NLP']], False))"
   ]
  },
  {
   "cell_type": "code",
   "execution_count": 3,
   "metadata": {},
   "outputs": [
    {
     "name": "stdout",
     "output_type": "stream",
     "text": [
      "Python\n",
      "[1, 2, 3]\n",
      "('Yes', 'No')\n",
      "(True, ['AI', 'ML', ['Data Analysis', 'Data Science'], 'DL', ['NLP']], False)\n",
      "(True, ['AI', 'ML', ['Data Analysis', 'Data Science'], 'DL', ['NLP']], False)\n"
     ]
    }
   ],
   "source": [
    "print(T1[0])\n",
    "print(T1[3])\n",
    "print(T1[5])\n",
    "print(T1[len(T1)-1])\n",
    "print(T1[-1])"
   ]
  },
  {
   "cell_type": "code",
   "execution_count": 4,
   "metadata": {},
   "outputs": [
    {
     "name": "stdout",
     "output_type": "stream",
     "text": [
      "('Python', 7, True, [1, 2, 3], [5.5, 25.5, 555.5], ('Yes', 'No'), (True, ['AI', 'ML', ['Data Analysis', 'Data Science'], 'DL', ['NLP']], False))\n",
      "--------------------------------------------------------------------------------\n",
      "('Python', 7, True, [1, 2, 3], [5.5, 25.5, 555.5], ('Yes', 'No'))\n",
      "--------------------------------------------------------------------------------\n",
      "((True, ['AI', 'ML', ['Data Analysis', 'Data Science'], 'DL', ['NLP']], False),)\n",
      "--------------------------------------------------------------------------------\n",
      "(('Yes', 'No'), (True, ['AI', 'ML', ['Data Analysis', 'Data Science'], 'DL', ['NLP']], False))\n",
      "--------------------------------------------------------------------------------\n",
      "(('Yes', 'No'), (True, ['AI', 'ML', ['Data Analysis', 'Data Science'], 'DL', ['NLP']], False))\n"
     ]
    }
   ],
   "source": [
    "# slicing with start and stop\n",
    "\n",
    "print(T1[:])\n",
    "print(\"--------------------------------------------------------------------------------\")\n",
    "print(T1[:6])\n",
    "print(\"--------------------------------------------------------------------------------\")\n",
    "print(T1[6:])\n",
    "print(\"--------------------------------------------------------------------------------\")\n",
    "print(T1[5:7])\n",
    "print(\"--------------------------------------------------------------------------------\")\n",
    "print(T1[-2:])"
   ]
  },
  {
   "cell_type": "code",
   "execution_count": 5,
   "metadata": {},
   "outputs": [
    {
     "name": "stdout",
     "output_type": "stream",
     "text": [
      "Full Tuple:  ('Python', 7, True, [1, 2, 3], [5.5, 25.5, 555.5], ('Yes', 'No'), (True, ['AI', 'ML', ['Data Analysis', 'Data Science'], 'DL', ['NLP']], False))\n",
      "--------------------------------------------------------------------------------\n",
      "Alternate Tuple Items:  ('Python', True, [5.5, 25.5, 555.5], (True, ['AI', 'ML', ['Data Analysis', 'Data Science'], 'DL', ['NLP']], False))\n",
      "--------------------------------------------------------------------------------\n",
      "Reversed Tuple:  ((True, ['AI', 'ML', ['Data Analysis', 'Data Science'], 'DL', ['NLP']], False), ('Yes', 'No'), [5.5, 25.5, 555.5], [1, 2, 3], True, 7, 'Python')\n",
      "--------------------------------------------------------------------------------\n",
      "Reversed Alternate Tuple Items:  ((True, ['AI', 'ML', ['Data Analysis', 'Data Science'], 'DL', ['NLP']], False), [5.5, 25.5, 555.5], True, 'Python')\n",
      "--------------------------------------------------------------------------------\n",
      "('Python', True, [5.5, 25.5, 555.5], (True, ['AI', 'ML', ['Data Analysis', 'Data Science'], 'DL', ['NLP']], False))\n"
     ]
    }
   ],
   "source": [
    "# Slicing with Start, Stop and Step\n",
    "\n",
    "print(\"Full Tuple: \", T1[::])\n",
    "print(\"--------------------------------------------------------------------------------\")\n",
    "print(\"Alternate Tuple Items: \", T1[::2])\n",
    "print(\"--------------------------------------------------------------------------------\")\n",
    "print(\"Reversed Tuple: \", T1[::-1])\n",
    "print(\"--------------------------------------------------------------------------------\")\n",
    "print(\"Reversed Alternate Tuple Items: \", T1[::-2])\n",
    "print(\"--------------------------------------------------------------------------------\")\n",
    "print(T1[0:7:2])"
   ]
  },
  {
   "cell_type": "code",
   "execution_count": 6,
   "metadata": {},
   "outputs": [
    {
     "name": "stdout",
     "output_type": "stream",
     "text": [
      "('Python', 7, True, [1, 2, 3], [5.5, 25.5, 555.5], ('Yes', 'No'), (True, ['AI', 'ML', ['Data Analysis', 'Data Science'], 'DL', ['NLP']], False))\n",
      "Fetch item 25.5:  25.5\n",
      "--------------------------------------------------------------------------------\n",
      "Fetch 'ML':  ML\n",
      "--------------------------------------------------------------------------------\n",
      "Fetch item 'Data Science':  Data Science\n",
      "--------------------------------------------------------------------------------\n",
      "Fetch item 'NLP:  NLP\n"
     ]
    }
   ],
   "source": [
    "# Slicing of Nested Tuple\n",
    "print(T1)\n",
    "print(\"Fetch item 25.5: \", T1[4][1])\n",
    "print(\"--------------------------------------------------------------------------------\")\n",
    "print(\"Fetch 'ML': \", T1[6][1][1])\n",
    "print(\"--------------------------------------------------------------------------------\")\n",
    "print(\"Fetch item 'Data Science': \", T1[6][1][2][1])\n",
    "print(\"--------------------------------------------------------------------------------\")\n",
    "print(\"Fetch item 'NLP: \", T1[6][1][4][0])"
   ]
  },
  {
   "cell_type": "markdown",
   "metadata": {},
   "source": [
    "### index(x):\n",
    "\n",
    "The index(x) method in Python is used to find the index of the first occurenece of a specified value(x) in a tuple (or other iterables, like list, string or tuple). If the value is not found it raises a ValueError."
   ]
  },
  {
   "cell_type": "code",
   "execution_count": 7,
   "metadata": {},
   "outputs": [],
   "source": [
    "T2 = (1, 2, 5, True, False, 'Yes', ('o', 'k'), True, 'No', 5.5)"
   ]
  },
  {
   "cell_type": "code",
   "execution_count": 8,
   "metadata": {},
   "outputs": [
    {
     "data": {
      "text/plain": [
       "2"
      ]
     },
     "execution_count": 8,
     "metadata": {},
     "output_type": "execute_result"
    }
   ],
   "source": [
    "# fetch the index number of integer\n",
    "\n",
    "T2.index(5)"
   ]
  },
  {
   "cell_type": "code",
   "execution_count": 9,
   "metadata": {},
   "outputs": [
    {
     "data": {
      "text/plain": [
       "5"
      ]
     },
     "execution_count": 9,
     "metadata": {},
     "output_type": "execute_result"
    }
   ],
   "source": [
    "# fetch index number of string\n",
    "\n",
    "T2.index('Yes')"
   ]
  },
  {
   "cell_type": "code",
   "execution_count": 10,
   "metadata": {},
   "outputs": [
    {
     "name": "stdout",
     "output_type": "stream",
     "text": [
      "0\n",
      "In Python, 1 is considered equivalent to True in a boolean context, \n",
      "and this is likely why T2.index(True) returns 0. \n",
      "It treats 1 (the first element) as True, because True is often considered a boolean value equivalent to 1 in Python.\n",
      "But if my first element was different than 1, then it would have given 3 as a index number.\n"
     ]
    }
   ],
   "source": [
    "# fetch index number of boolean \n",
    "\n",
    "print(T2.index(True))\n",
    "\n",
    "print('''In Python, 1 is considered equivalent to True in a boolean context, \n",
    "and this is likely why T2.index(True) returns 0. \n",
    "It treats 1 (the first element) as True, because True is often considered a boolean value equivalent to 1 in Python.\n",
    "But if my first element was different than 1, then it would have given 3 as a index number.''')"
   ]
  },
  {
   "cell_type": "code",
   "execution_count": 11,
   "metadata": {},
   "outputs": [
    {
     "name": "stdout",
     "output_type": "stream",
     "text": [
      "6\n"
     ]
    }
   ],
   "source": [
    "# fetch index of tuple inside tuple\n",
    "\n",
    "print(T2.index(('o', 'k')))"
   ]
  },
  {
   "cell_type": "code",
   "execution_count": 12,
   "metadata": {},
   "outputs": [
    {
     "name": "stdout",
     "output_type": "stream",
     "text": [
      "7\n"
     ]
    }
   ],
   "source": [
    "# index with start \n",
    "# find the index of boolean item 'True', starting the search from index \n",
    "print(T2.index(True, 5))"
   ]
  },
  {
   "cell_type": "code",
   "execution_count": 13,
   "metadata": {},
   "outputs": [
    {
     "ename": "ValueError",
     "evalue": "tuple.index(x): x not in tuple",
     "output_type": "error",
     "traceback": [
      "\u001b[1;31m---------------------------------------------------------------------------\u001b[0m",
      "\u001b[1;31mValueError\u001b[0m                                Traceback (most recent call last)",
      "Cell \u001b[1;32mIn[13], line 3\u001b[0m\n\u001b[0;32m      1\u001b[0m \u001b[38;5;66;03m# when item not found\u001b[39;00m\n\u001b[1;32m----> 3\u001b[0m \u001b[43mT2\u001b[49m\u001b[38;5;241;43m.\u001b[39;49m\u001b[43mindex\u001b[49m\u001b[43m(\u001b[49m\u001b[38;5;124;43m\"\u001b[39;49m\u001b[38;5;124;43mAI\u001b[39;49m\u001b[38;5;124;43m\"\u001b[39;49m\u001b[43m)\u001b[49m\n",
      "\u001b[1;31mValueError\u001b[0m: tuple.index(x): x not in tuple"
     ]
    }
   ],
   "source": [
    "# when item not found\n",
    "\n",
    "T2.index(\"AI\")"
   ]
  },
  {
   "cell_type": "markdown",
   "metadata": {},
   "source": [
    "### count(x):\n",
    "\n",
    "Return the number of times x appears in the tuple."
   ]
  },
  {
   "cell_type": "code",
   "execution_count": 15,
   "metadata": {},
   "outputs": [],
   "source": [
    "T3 = (1,2,3,True,5,0,5.5,'ML',5,1,3,9,0,True,4,6,2,'ML',1,5,8,0,True,9,0,'ML',8,6,5,4,'ML',7,9,True,4,6,8,3,'ML',0)"
   ]
  },
  {
   "cell_type": "code",
   "execution_count": 16,
   "metadata": {},
   "outputs": [
    {
     "name": "stdout",
     "output_type": "stream",
     "text": [
      "Count of Five: 4\n",
      "--------------------------------------------------------------------------------\n",
      "Count of string 'ML': 5\n",
      "--------------------------------------------------------------------------------\n",
      "Count of True: 7\n",
      "--------------------------------------------------------------------------------\n",
      "Count of 5 between index 3 and 15:  2\n"
     ]
    }
   ],
   "source": [
    "print(\"Count of Five:\", T3.count(5))\n",
    "print(\"--------------------------------------------------------------------------------\")\n",
    "print(\"Count of string 'ML':\", T3.count('ML'))\n",
    "print(\"--------------------------------------------------------------------------------\")\n",
    "print(\"Count of True:\", T3.count(True))\n",
    "print(\"--------------------------------------------------------------------------------\")\n",
    "print(\"Count of 5 between index 3 and 15: \", T3[3:15].count(5))"
   ]
  },
  {
   "cell_type": "markdown",
   "metadata": {},
   "source": [
    "### Tuple Operations: Concatinating Elements"
   ]
  },
  {
   "cell_type": "markdown",
   "metadata": {},
   "source": [
    "While you can't modify an existing tuple directly, you can create a new tuple by concatenating the original tuple with other elements or another tuple"
   ]
  },
  {
   "cell_type": "code",
   "execution_count": null,
   "metadata": {},
   "outputs": [],
   "source": [
    "T4 = (1, 2, 3, 4, 5)\n",
    "T5 = (1.5, 2.5, 3.5, 4.5, 5.5)\n",
    "T6 = ('Yes', 'No', 'True', 'or', 'False')\n",
    "T7 = (True, False)"
   ]
  },
  {
   "cell_type": "code",
   "execution_count": null,
   "metadata": {},
   "outputs": [
    {
     "data": {
      "text/plain": [
       "(1, 2, 3, 4, 5, 1.5, 2.5, 3.5, 4.5, 5.5)"
      ]
     },
     "execution_count": 73,
     "metadata": {},
     "output_type": "execute_result"
    }
   ],
   "source": [
    "T8 = T4+T5\n",
    "T8"
   ]
  },
  {
   "cell_type": "code",
   "execution_count": null,
   "metadata": {},
   "outputs": [
    {
     "data": {
      "text/plain": [
       "('Yes', 'No', 'True', 'or', 'False', True, False)"
      ]
     },
     "execution_count": 74,
     "metadata": {},
     "output_type": "execute_result"
    }
   ],
   "source": [
    "T9 = T6+T7\n",
    "T9"
   ]
  },
  {
   "cell_type": "markdown",
   "metadata": {},
   "source": [
    "# Important Questions asked in the Interview based on Python Tuple"
   ]
  },
  {
   "cell_type": "markdown",
   "metadata": {},
   "source": [
    "### 1. Why Tuple is immutable? or Why can't we directly add elements to a tuple?\n",
    "\n",
    "Since Tuples are immutable, any operations that would alter the tuple's contents (like adding, removing or modifying elements) is not allowed. \n",
    "\n",
    "This is by design to ensure that **tuples are fixed in size and structure**, making them faster and more memory-efficient for certain use cases."
   ]
  },
  {
   "cell_type": "markdown",
   "metadata": {},
   "source": [
    "### 2. How to create Tuple with single element?"
   ]
  },
  {
   "cell_type": "code",
   "execution_count": 23,
   "metadata": {},
   "outputs": [
    {
     "name": "stdout",
     "output_type": "stream",
     "text": [
      "5\n",
      "<class 'int'>\n",
      "(5,)\n",
      "<class 'tuple'>\n"
     ]
    }
   ],
   "source": [
    "T10 = (5)\n",
    "print(T10)\n",
    "print(type(T10))\n",
    "\n",
    "T10 = (5,)\n",
    "print(T10)\n",
    "print(type(T10))"
   ]
  },
  {
   "cell_type": "markdown",
   "metadata": {},
   "source": [
    "### 3. Can a Tuple contain mutable elements like lists? If Yes, Explain and If Not, Explain why not?"
   ]
  },
  {
   "cell_type": "markdown",
   "metadata": {},
   "source": [
    "Yes, tuples can contain mutable elements, such as lists or dictionaries. While the tuple itself is immutable, you can modify the mutable elements inside the tuple."
   ]
  },
  {
   "cell_type": "code",
   "execution_count": 24,
   "metadata": {},
   "outputs": [
    {
     "data": {
      "text/plain": [
       "([1, 2, 4], 3)"
      ]
     },
     "execution_count": 24,
     "metadata": {},
     "output_type": "execute_result"
    }
   ],
   "source": [
    "T11 = ([1, 2], 3)\n",
    "T11[0].append(4)  # This is allowed, modifies the list inside the tuple\n",
    "\n",
    "T11\n"
   ]
  },
  {
   "cell_type": "markdown",
   "metadata": {},
   "source": [
    "### 4. What is tuple unpacking and how is it used?"
   ]
  },
  {
   "cell_type": "code",
   "execution_count": 25,
   "metadata": {},
   "outputs": [
    {
     "name": "stdout",
     "output_type": "stream",
     "text": [
      "1\n",
      "2\n",
      "3\n"
     ]
    }
   ],
   "source": [
    "# Tuple unpacking allows you to assign values from a tuple to variables in a single statement.\n",
    "\n",
    "T12 = (1, 2, 3)\n",
    "\n",
    "a, b, c = T12\n",
    "\n",
    "print(a)\n",
    "print(b)\n",
    "print(c)"
   ]
  },
  {
   "cell_type": "markdown",
   "metadata": {},
   "source": [
    "### 5. How can you make a tuple of tuples into a flat list?"
   ]
  },
  {
   "cell_type": "code",
   "execution_count": 27,
   "metadata": {},
   "outputs": [
    {
     "data": {
      "text/plain": [
       "[1, 2, 3, 4, 5, 6, 7, 8, 9, 0]"
      ]
     },
     "execution_count": 27,
     "metadata": {},
     "output_type": "execute_result"
    }
   ],
   "source": [
    "T13 = ((1, 2), (3, 4), (5, 6), (7, 8), (9, 0))\n",
    "\n",
    "flat_tuple = [element for item in T13 for element in item]\n",
    "flat_tuple"
   ]
  }
 ],
 "metadata": {
  "kernelspec": {
   "display_name": "python_ipynb",
   "language": "python",
   "name": "python3"
  },
  "language_info": {
   "codemirror_mode": {
    "name": "ipython",
    "version": 3
   },
   "file_extension": ".py",
   "mimetype": "text/x-python",
   "name": "python",
   "nbconvert_exporter": "python",
   "pygments_lexer": "ipython3",
   "version": "3.12.1"
  }
 },
 "nbformat": 4,
 "nbformat_minor": 2
}
