{
 "cells": [
  {
   "cell_type": "markdown",
   "metadata": {},
   "source": [
    "# Set\n",
    "\n",
    "Sets are commonly used when you need to store a collection of items, but you don't want any duplicates, and the order of the elements doesn't matter."
   ]
  },
  {
   "cell_type": "markdown",
   "metadata": {},
   "source": [
    "### Characteristics of Set:\n",
    "\n",
    "**1. Mutable:** Sets are mutable, meaning you can add or remove elements after the set is created.\n",
    "\n",
    "**2. Unordered:** Sets do not maintain any particular order of the elements.\n",
    "\n",
    "**3. Unique Elements:** All elements in a set are unique. Duplicates are automatically removed.\n",
    "\n",
    "**4. Unhashable Elements:** Only immutable (hashable) data types like numbers, strings, and tuples can be elements of a set. Lists or other sets cannot be added as a elemens."
   ]
  },
  {
   "cell_type": "markdown",
   "metadata": {},
   "source": [
    "### Creating Set:\n",
    "\n",
    "You can create set by simply enclosing the elements of the set within curly braces or you can create set by using set() function, which can take an iterable (like a list, tuple or string) as an argument."
   ]
  },
  {
   "cell_type": "code",
   "execution_count": null,
   "metadata": {},
   "outputs": [
    {
     "data": {
      "text/plain": [
       "{1, 2, 3, 4, 5}"
      ]
     },
     "execution_count": 4,
     "metadata": {},
     "output_type": "execute_result"
    }
   ],
   "source": [
    "my_set = {1,2,2,3,3,3,4,4,4,4,5,5,5,5,5}\n",
    "my_set"
   ]
  },
  {
   "cell_type": "code",
   "execution_count": null,
   "metadata": {},
   "outputs": [
    {
     "data": {
      "text/plain": [
       "{1, 2, 3, 4, 5}"
      ]
     },
     "execution_count": 5,
     "metadata": {},
     "output_type": "execute_result"
    }
   ],
   "source": [
    "# create set from iterable (list)\n",
    "\n",
    "S1 = set([1,2,2,3,3,3,4,4,4,4,5,5,5,5,5])\n",
    "S1"
   ]
  },
  {
   "cell_type": "code",
   "execution_count": null,
   "metadata": {},
   "outputs": [
    {
     "data": {
      "text/plain": [
       "{'P', 'a', 'g', 'i', 'm', 'n', 'o', 'r'}"
      ]
     },
     "execution_count": 6,
     "metadata": {},
     "output_type": "execute_result"
    }
   ],
   "source": [
    "# create set from iterable (string)\n",
    "\n",
    "S2 = set(\"Programming\")\n",
    "S2\n"
   ]
  },
  {
   "cell_type": "code",
   "execution_count": 7,
   "metadata": {},
   "outputs": [
    {
     "data": {
      "text/plain": [
       "set()"
      ]
     },
     "execution_count": 7,
     "metadata": {},
     "output_type": "execute_result"
    }
   ],
   "source": [
    "# empty set\n",
    "\n",
    "S3 = set()\n",
    "S3"
   ]
  },
  {
   "cell_type": "markdown",
   "metadata": {},
   "source": [
    "### Set Operations: Adding Elements"
   ]
  },
  {
   "cell_type": "markdown",
   "metadata": {},
   "source": [
    "### add(x):\n",
    "\n",
    "Adds a single element to the set. If the element already exists, it does nothing."
   ]
  },
  {
   "cell_type": "code",
   "execution_count": 11,
   "metadata": {},
   "outputs": [],
   "source": [
    "S4 = {1, 2, 3, 4}"
   ]
  },
  {
   "cell_type": "code",
   "execution_count": null,
   "metadata": {},
   "outputs": [
    {
     "data": {
      "text/plain": [
       "{1, 2, 3, 4, 5}"
      ]
     },
     "execution_count": 12,
     "metadata": {},
     "output_type": "execute_result"
    }
   ],
   "source": [
    "# add integer element\n",
    "\n",
    "S4.add(5)\n",
    "S4"
   ]
  },
  {
   "cell_type": "code",
   "execution_count": 13,
   "metadata": {},
   "outputs": [
    {
     "data": {
      "text/plain": [
       "{1, 2, 3, 4, 5, 'Python'}"
      ]
     },
     "execution_count": 13,
     "metadata": {},
     "output_type": "execute_result"
    }
   ],
   "source": [
    "# add string element\n",
    "\n",
    "S4.add('Python')\n",
    "S4"
   ]
  },
  {
   "cell_type": "code",
   "execution_count": 14,
   "metadata": {},
   "outputs": [
    {
     "data": {
      "text/plain": [
       "{1, 2, 3, 4, 5, 'Python'}"
      ]
     },
     "execution_count": 14,
     "metadata": {},
     "output_type": "execute_result"
    }
   ],
   "source": [
    "# add existing element\n",
    "\n",
    "S4.add('Python')\n",
    "S4"
   ]
  },
  {
   "cell_type": "code",
   "execution_count": 18,
   "metadata": {},
   "outputs": [
    {
     "data": {
      "text/plain": [
       "{(6, 7, 8, 9, 0), 1, 2, 3, 4, 5, 'Python'}"
      ]
     },
     "execution_count": 18,
     "metadata": {},
     "output_type": "execute_result"
    }
   ],
   "source": [
    "# add tuple to set\n",
    "\n",
    "S4.add((6,7,8,9,0))\n",
    "S4"
   ]
  },
  {
   "cell_type": "code",
   "execution_count": 17,
   "metadata": {},
   "outputs": [
    {
     "ename": "TypeError",
     "evalue": "unhashable type: 'set'",
     "output_type": "error",
     "traceback": [
      "\u001b[1;31m---------------------------------------------------------------------------\u001b[0m",
      "\u001b[1;31mTypeError\u001b[0m                                 Traceback (most recent call last)",
      "Cell \u001b[1;32mIn[17], line 3\u001b[0m\n\u001b[0;32m      1\u001b[0m \u001b[38;5;66;03m# add set to set\u001b[39;00m\n\u001b[1;32m----> 3\u001b[0m \u001b[43mS4\u001b[49m\u001b[38;5;241;43m.\u001b[39;49m\u001b[43madd\u001b[49m\u001b[43m(\u001b[49m\u001b[43m{\u001b[49m\u001b[38;5;241;43m6\u001b[39;49m\u001b[43m,\u001b[49m\u001b[38;5;241;43m7\u001b[39;49m\u001b[43m,\u001b[49m\u001b[38;5;241;43m8\u001b[39;49m\u001b[43m,\u001b[49m\u001b[38;5;241;43m9\u001b[39;49m\u001b[43m,\u001b[49m\u001b[38;5;241;43m0\u001b[39;49m\u001b[43m}\u001b[49m\u001b[43m)\u001b[49m\n\u001b[0;32m      4\u001b[0m S4\n",
      "\u001b[1;31mTypeError\u001b[0m: unhashable type: 'set'"
     ]
    }
   ],
   "source": [
    "# add set to set\n",
    "\n",
    "S4.add({6,7,8,9,0})\n",
    "S4"
   ]
  },
  {
   "cell_type": "code",
   "execution_count": null,
   "metadata": {},
   "outputs": [
    {
     "ename": "TypeError",
     "evalue": "unhashable type: 'list'",
     "output_type": "error",
     "traceback": [
      "\u001b[1;31m---------------------------------------------------------------------------\u001b[0m",
      "\u001b[1;31mTypeError\u001b[0m                                 Traceback (most recent call last)",
      "Cell \u001b[1;32mIn[15], line 3\u001b[0m\n\u001b[0;32m      1\u001b[0m \u001b[38;5;66;03m# add list\u001b[39;00m\n\u001b[1;32m----> 3\u001b[0m \u001b[43mS4\u001b[49m\u001b[38;5;241;43m.\u001b[39;49m\u001b[43madd\u001b[49m\u001b[43m(\u001b[49m\u001b[43m[\u001b[49m\u001b[38;5;241;43m1\u001b[39;49m\u001b[43m,\u001b[49m\u001b[38;5;241;43m2\u001b[39;49m\u001b[43m,\u001b[49m\u001b[38;5;241;43m3\u001b[39;49m\u001b[43m]\u001b[49m\u001b[43m)\u001b[49m\n\u001b[0;32m      4\u001b[0m S4\n",
      "\u001b[1;31mTypeError\u001b[0m: unhashable type: 'list'"
     ]
    }
   ],
   "source": [
    "# add list to set\n",
    "\n",
    "S4.add([1,2,3])\n",
    "S4"
   ]
  },
  {
   "cell_type": "code",
   "execution_count": 20,
   "metadata": {},
   "outputs": [
    {
     "ename": "TypeError",
     "evalue": "set.add() takes exactly one argument (7 given)",
     "output_type": "error",
     "traceback": [
      "\u001b[1;31m---------------------------------------------------------------------------\u001b[0m",
      "\u001b[1;31mTypeError\u001b[0m                                 Traceback (most recent call last)",
      "Cell \u001b[1;32mIn[20], line 3\u001b[0m\n\u001b[0;32m      1\u001b[0m \u001b[38;5;66;03m# add multiple elements at time in a set\u001b[39;00m\n\u001b[1;32m----> 3\u001b[0m \u001b[43mS4\u001b[49m\u001b[38;5;241;43m.\u001b[39;49m\u001b[43madd\u001b[49m\u001b[43m(\u001b[49m\u001b[38;5;241;43m0\u001b[39;49m\u001b[43m,\u001b[49m\u001b[38;5;241;43m1\u001b[39;49m\u001b[43m,\u001b[49m\u001b[38;5;241;43m2\u001b[39;49m\u001b[43m,\u001b[49m\u001b[38;5;241;43m3\u001b[39;49m\u001b[43m,\u001b[49m\u001b[38;5;241;43m5\u001b[39;49m\u001b[43m,\u001b[49m\u001b[38;5;241;43m7\u001b[39;49m\u001b[43m,\u001b[49m\u001b[38;5;241;43m11\u001b[39;49m\u001b[43m)\u001b[49m\n\u001b[0;32m      4\u001b[0m S4\n",
      "\u001b[1;31mTypeError\u001b[0m: set.add() takes exactly one argument (7 given)"
     ]
    }
   ],
   "source": [
    "# add multiple elements at time in a set\n",
    "\n",
    "S4.add(0,1,2,3,5,7,11)\n",
    "S4"
   ]
  },
  {
   "cell_type": "markdown",
   "metadata": {},
   "source": [
    "Note: adding multiple to a set can be achieved in update."
   ]
  },
  {
   "cell_type": "markdown",
   "metadata": {},
   "source": [
    "### update(x):\n",
    "\n",
    "Adds multiple elements (from list, tuple, set, etc.) to the set."
   ]
  },
  {
   "cell_type": "code",
   "execution_count": 21,
   "metadata": {},
   "outputs": [],
   "source": [
    "S5 = {1,2,3,'Yes', 'No', True, False}"
   ]
  },
  {
   "cell_type": "code",
   "execution_count": 22,
   "metadata": {},
   "outputs": [
    {
     "data": {
      "text/plain": [
       "{1, 2, 3, 4, 5, 6, False, 'No', 'Yes'}"
      ]
     },
     "execution_count": 22,
     "metadata": {},
     "output_type": "execute_result"
    }
   ],
   "source": [
    "S5.update({4,5,6})\n",
    "S5"
   ]
  },
  {
   "cell_type": "markdown",
   "metadata": {},
   "source": [
    "In the set S5 = {1, 2, 3, 'Yes', 'No', True, False}, the value True is stored as 1 because Python treats True as 1 and False as 0.\n",
    "\n",
    "After the update, {4, 5, 6} is added. Since 1 already exists in the set (as True), True is not added again."
   ]
  },
  {
   "cell_type": "code",
   "execution_count": 23,
   "metadata": {},
   "outputs": [
    {
     "data": {
      "text/plain": [
       "{1, 2, 3, 4, 5, 6, False, 'Language', 'No', 'Programming', 'Python', 'Yes'}"
      ]
     },
     "execution_count": 23,
     "metadata": {},
     "output_type": "execute_result"
    }
   ],
   "source": [
    "S5.update({'Python', 'Programming', 'Language'})\n",
    "S5"
   ]
  },
  {
   "cell_type": "code",
   "execution_count": 26,
   "metadata": {},
   "outputs": [
    {
     "name": "stdout",
     "output_type": "stream",
     "text": [
      "{False, 1, 2, 3, 4, 5, 6, 7, 8, 9, 'Yes', 'Language', 'Programming', 'Python', 'No'}\n"
     ]
    }
   ],
   "source": [
    "# update with list\n",
    "\n",
    "lst = [7,8,9]\n",
    "\n",
    "S5.update(lst)\n",
    "print(S5)"
   ]
  },
  {
   "cell_type": "code",
   "execution_count": 27,
   "metadata": {},
   "outputs": [
    {
     "name": "stdout",
     "output_type": "stream",
     "text": [
      "{False, 1, 2, 3, 4, 5, 6, 7, 8, 9, 10, 11, 12, 'Yes', 'Language', 'Programming', 'Python', 'No'}\n"
     ]
    }
   ],
   "source": [
    "# update with set\n",
    "\n",
    "sets = {10,11,12}\n",
    "\n",
    "S5.update(sets)\n",
    "print(S5)"
   ]
  },
  {
   "cell_type": "code",
   "execution_count": 28,
   "metadata": {},
   "outputs": [
    {
     "name": "stdout",
     "output_type": "stream",
     "text": [
      "{False, 1, 2, 3, 4, 5, 6, 7, 8, 9, 10, 11, 12, 'Python', 'No', 'T', 'H', 'N', 'Yes', 'O', 'P', 'Language', 'Y', 'Programming'}\n"
     ]
    }
   ],
   "source": [
    "# update with string\n",
    "\n",
    "string = \"PYTHON\"\n",
    "\n",
    "S5.update(string)\n",
    "print(S5)"
   ]
  },
  {
   "cell_type": "markdown",
   "metadata": {},
   "source": [
    "### Set Operations: Deleting Elements"
   ]
  },
  {
   "cell_type": "markdown",
   "metadata": {},
   "source": [
    "### remove(x):\n",
    "\n",
    "Removes a specific element (x) from the set. If the element is not found, it raises a KeyError."
   ]
  },
  {
   "cell_type": "code",
   "execution_count": 35,
   "metadata": {},
   "outputs": [
    {
     "name": "stdout",
     "output_type": "stream",
     "text": [
      "{False, 1, 2, 3, 4, 5, 6, 7, 8, 9, 10, 11, 12, 'N', 'Yes', 'Python', 'O', 'P', 'No', 'Language', 'Y', 'T', 'Programming', 'H'}\n"
     ]
    }
   ],
   "source": [
    "S6 = {False, 1, 2, 3, 4, 5, 6, 7, 8, 9, 10, 11, 12, 'Python', 'No', 'T', 'H', 'N', 'Yes', 'O', 'P', 'Language', 'Y', 'Programming'}\n",
    "print(S6)"
   ]
  },
  {
   "cell_type": "code",
   "execution_count": 36,
   "metadata": {},
   "outputs": [
    {
     "name": "stdout",
     "output_type": "stream",
     "text": [
      "{1, 2, 3, 4, 5, 6, 7, 8, 9, 10, 11, 12, 'N', 'Yes', 'Python', 'O', 'P', 'No', 'Language', 'Y', 'T', 'Programming', 'H'}\n"
     ]
    }
   ],
   "source": [
    "S6.remove(False)\n",
    "print(S6)"
   ]
  },
  {
   "cell_type": "code",
   "execution_count": 37,
   "metadata": {},
   "outputs": [
    {
     "name": "stdout",
     "output_type": "stream",
     "text": [
      "{1, 2, 3, 4, 5, 6, 7, 8, 9, 10, 11, 12, 'N', 'Yes', 'Python', 'O', 'P', 'Language', 'Y', 'T', 'Programming', 'H'}\n"
     ]
    }
   ],
   "source": [
    "S6.remove('No')\n",
    "print(S6)"
   ]
  },
  {
   "cell_type": "code",
   "execution_count": 38,
   "metadata": {},
   "outputs": [
    {
     "name": "stdout",
     "output_type": "stream",
     "text": [
      "{1, 2, 3, 4, 5, 6, 7, 8, 9, 10, 11, 'N', 'Yes', 'Python', 'O', 'P', 'Language', 'Y', 'T', 'Programming', 'H'}\n"
     ]
    }
   ],
   "source": [
    "S6.remove(12)\n",
    "print(S6)"
   ]
  },
  {
   "cell_type": "code",
   "execution_count": 45,
   "metadata": {},
   "outputs": [
    {
     "ename": "KeyError",
     "evalue": "'A'",
     "output_type": "error",
     "traceback": [
      "\u001b[1;31m---------------------------------------------------------------------------\u001b[0m",
      "\u001b[1;31mKeyError\u001b[0m                                  Traceback (most recent call last)",
      "Cell \u001b[1;32mIn[45], line 1\u001b[0m\n\u001b[1;32m----> 1\u001b[0m \u001b[43mS6\u001b[49m\u001b[38;5;241;43m.\u001b[39;49m\u001b[43mremove\u001b[49m\u001b[43m(\u001b[49m\u001b[38;5;124;43m'\u001b[39;49m\u001b[38;5;124;43mA\u001b[39;49m\u001b[38;5;124;43m'\u001b[39;49m\u001b[43m)\u001b[49m\n\u001b[0;32m      2\u001b[0m \u001b[38;5;28mprint\u001b[39m(S6)\n",
      "\u001b[1;31mKeyError\u001b[0m: 'A'"
     ]
    }
   ],
   "source": [
    "S6.remove('A')\n",
    "print(S6)"
   ]
  },
  {
   "cell_type": "markdown",
   "metadata": {},
   "source": [
    "### discard(x):\n",
    "\n",
    "Removes an element from the set if it exists. If the element is not found, it does nothing (no error)."
   ]
  },
  {
   "cell_type": "code",
   "execution_count": 41,
   "metadata": {},
   "outputs": [
    {
     "name": "stdout",
     "output_type": "stream",
     "text": [
      "{1, 2, 3, 4, 5, 6, 7, 8, 9, 10, 11, 'N', 'Yes', 'Python', 'O', 'P', 'Language', 'Y', 'T', 'Programming', 'H'}\n"
     ]
    }
   ],
   "source": [
    "print(S6)"
   ]
  },
  {
   "cell_type": "code",
   "execution_count": 43,
   "metadata": {},
   "outputs": [
    {
     "name": "stdout",
     "output_type": "stream",
     "text": [
      "{1, 2, 3, 4, 5, 6, 7, 8, 9, 10, 'N', 'Yes', 'Python', 'O', 'P', 'Language', 'Y', 'T', 'Programming', 'H'}\n"
     ]
    }
   ],
   "source": [
    "S6.discard(11)\n",
    "print(S6)"
   ]
  },
  {
   "cell_type": "code",
   "execution_count": null,
   "metadata": {},
   "outputs": [
    {
     "name": "stdout",
     "output_type": "stream",
     "text": [
      "{1, 2, 3, 4, 5, 6, 7, 8, 9, 10, 'N', 'Yes', 'Python', 'O', 'P', 'Y', 'T', 'Programming', 'H'}\n"
     ]
    }
   ],
   "source": [
    "S6.discard('Language')\n",
    "print(S6)"
   ]
  },
  {
   "cell_type": "code",
   "execution_count": 46,
   "metadata": {},
   "outputs": [
    {
     "name": "stdout",
     "output_type": "stream",
     "text": [
      "{1, 2, 3, 4, 5, 6, 7, 8, 9, 10, 'N', 'Yes', 'Python', 'O', 'P', 'Y', 'T', 'Programming', 'H'}\n"
     ]
    }
   ],
   "source": [
    "# trying to delete/remove element which not in set\n",
    "\n",
    "S6.discard('A')\n",
    "print(S6)"
   ]
  },
  {
   "cell_type": "markdown",
   "metadata": {},
   "source": [
    "### pop():\n",
    "\n",
    "Removes and returns an arbitrary element from the set. Since sets are unordered, you can't predict which element will be removed."
   ]
  },
  {
   "cell_type": "code",
   "execution_count": 47,
   "metadata": {},
   "outputs": [
    {
     "name": "stdout",
     "output_type": "stream",
     "text": [
      "{1, 2, 3, 4, 5, 6, 7, 8, 9, 10, 'N', 'Yes', 'Python', 'O', 'P', 'Y', 'T', 'Programming', 'H'}\n"
     ]
    }
   ],
   "source": [
    "print(S6)"
   ]
  },
  {
   "cell_type": "code",
   "execution_count": 48,
   "metadata": {},
   "outputs": [
    {
     "name": "stdout",
     "output_type": "stream",
     "text": [
      "{2, 3, 4, 5, 6, 7, 8, 9, 10, 'N', 'Yes', 'Python', 'O', 'P', 'Y', 'T', 'Programming', 'H'}\n"
     ]
    }
   ],
   "source": [
    "S6.pop()\n",
    "print(S6)"
   ]
  },
  {
   "cell_type": "code",
   "execution_count": 49,
   "metadata": {},
   "outputs": [
    {
     "name": "stdout",
     "output_type": "stream",
     "text": [
      "{3, 4, 5, 6, 7, 8, 9, 10, 'N', 'Yes', 'Python', 'O', 'P', 'Y', 'T', 'Programming', 'H'}\n"
     ]
    }
   ],
   "source": [
    "S6.pop()\n",
    "print(S6)"
   ]
  },
  {
   "cell_type": "code",
   "execution_count": 50,
   "metadata": {},
   "outputs": [
    {
     "name": "stdout",
     "output_type": "stream",
     "text": [
      "{4, 5, 6, 7, 8, 9, 10, 'N', 'Yes', 'Python', 'O', 'P', 'Y', 'T', 'Programming', 'H'}\n"
     ]
    }
   ],
   "source": [
    "S6.pop()\n",
    "print(S6)"
   ]
  },
  {
   "cell_type": "markdown",
   "metadata": {},
   "source": [
    "### clear():\n",
    "\n",
    "Removes all elements from the set."
   ]
  },
  {
   "cell_type": "code",
   "execution_count": 51,
   "metadata": {},
   "outputs": [
    {
     "name": "stdout",
     "output_type": "stream",
     "text": [
      "{4, 5, 6, 7, 8, 9, 10, 'N', 'Yes', 'Python', 'O', 'P', 'Y', 'T', 'Programming', 'H'}\n"
     ]
    }
   ],
   "source": [
    "print(S6)"
   ]
  },
  {
   "cell_type": "code",
   "execution_count": 52,
   "metadata": {},
   "outputs": [
    {
     "name": "stdout",
     "output_type": "stream",
     "text": [
      "set()\n"
     ]
    }
   ],
   "source": [
    "S6.clear()\n",
    "print(S6)"
   ]
  },
  {
   "cell_type": "markdown",
   "metadata": {},
   "source": [
    "### Set Operations: Set Operations"
   ]
  },
  {
   "cell_type": "code",
   "execution_count": 64,
   "metadata": {},
   "outputs": [],
   "source": [
    "S7 = {1,2,3,4,5,6,7}\n",
    "S8 = {6,7,8,9,10,11,12}\n",
    "\n",
    "S9  = {\"Apple\", \"Banana\", \"Cherry\"}\n",
    "S10 = {\"Cherry\", \"Dragonfruit\", \"Eggfruit\"}"
   ]
  },
  {
   "cell_type": "markdown",
   "metadata": {},
   "source": [
    "### union():\n",
    "\n",
    "Combines elements from two sets, remving duplicates."
   ]
  },
  {
   "cell_type": "code",
   "execution_count": 57,
   "metadata": {},
   "outputs": [
    {
     "data": {
      "text/plain": [
       "{1, 2, 3, 4, 5, 6, 7, 8, 9, 10, 11, 12}"
      ]
     },
     "execution_count": 57,
     "metadata": {},
     "output_type": "execute_result"
    }
   ],
   "source": [
    "S7.union(S8)"
   ]
  },
  {
   "cell_type": "code",
   "execution_count": 58,
   "metadata": {},
   "outputs": [
    {
     "data": {
      "text/plain": [
       "{'Apple', 'Banana', 'Cherry', 'Dragonfruit', 'Eggfruit'}"
      ]
     },
     "execution_count": 58,
     "metadata": {},
     "output_type": "execute_result"
    }
   ],
   "source": [
    "S9.union(S10)"
   ]
  },
  {
   "cell_type": "code",
   "execution_count": 59,
   "metadata": {},
   "outputs": [
    {
     "data": {
      "text/plain": [
       "{'Cherry', 'Dragonfruit', 'Eggfruit', 'H', 'i'}"
      ]
     },
     "execution_count": 59,
     "metadata": {},
     "output_type": "execute_result"
    }
   ],
   "source": [
    "S10.union(\"Hiii\")"
   ]
  },
  {
   "cell_type": "markdown",
   "metadata": {},
   "source": [
    "### intersection():\n",
    "\n",
    "Returns the common elements from two sets."
   ]
  },
  {
   "cell_type": "code",
   "execution_count": 60,
   "metadata": {},
   "outputs": [
    {
     "data": {
      "text/plain": [
       "{6, 7}"
      ]
     },
     "execution_count": 60,
     "metadata": {},
     "output_type": "execute_result"
    }
   ],
   "source": [
    "S7.intersection(S8)"
   ]
  },
  {
   "cell_type": "code",
   "execution_count": 61,
   "metadata": {},
   "outputs": [
    {
     "data": {
      "text/plain": [
       "{'Cherry'}"
      ]
     },
     "execution_count": 61,
     "metadata": {},
     "output_type": "execute_result"
    }
   ],
   "source": [
    "S9.intersection(S10)"
   ]
  },
  {
   "cell_type": "code",
   "execution_count": null,
   "metadata": {},
   "outputs": [
    {
     "data": {
      "text/plain": [
       "set()"
      ]
     },
     "execution_count": 62,
     "metadata": {},
     "output_type": "execute_result"
    }
   ],
   "source": [
    "S9.intersection(\"Hiii\")     # null intersection"
   ]
  },
  {
   "cell_type": "markdown",
   "metadata": {},
   "source": [
    "### intersection_update():\n",
    "\n",
    "Update a set with the result of intersection of two sets."
   ]
  },
  {
   "cell_type": "code",
   "execution_count": 65,
   "metadata": {},
   "outputs": [
    {
     "name": "stdout",
     "output_type": "stream",
     "text": [
      "{6, 7}\n"
     ]
    }
   ],
   "source": [
    "S7.intersection_update(S8)\n",
    "print(S7)"
   ]
  },
  {
   "cell_type": "code",
   "execution_count": 66,
   "metadata": {},
   "outputs": [
    {
     "name": "stdout",
     "output_type": "stream",
     "text": [
      "{6, 7}\n"
     ]
    }
   ],
   "source": [
    "S8.intersection_update(S7)\n",
    "print(S8)"
   ]
  },
  {
   "cell_type": "code",
   "execution_count": 67,
   "metadata": {},
   "outputs": [
    {
     "name": "stdout",
     "output_type": "stream",
     "text": [
      "{'Cherry'}\n"
     ]
    }
   ],
   "source": [
    "S9.intersection_update(S10)\n",
    "print(S9)"
   ]
  },
  {
   "cell_type": "code",
   "execution_count": 68,
   "metadata": {},
   "outputs": [
    {
     "name": "stdout",
     "output_type": "stream",
     "text": [
      "{'Cherry'}\n"
     ]
    }
   ],
   "source": [
    "S10.intersection_update(S9)\n",
    "print(S10)"
   ]
  },
  {
   "cell_type": "markdown",
   "metadata": {},
   "source": [
    "### difference():\n",
    "\n",
    "Returns elements in the first set but not in the second."
   ]
  },
  {
   "cell_type": "code",
   "execution_count": 71,
   "metadata": {},
   "outputs": [],
   "source": [
    "S11 = {1,2,3,4,5}\n",
    "S12 = {6,7,8,9,10}\n",
    "\n",
    "S13 = {\"Apple\", \"Barclays\", \"Cisco\"}\n",
    "S14 = {\"Cisco\", \"Diamler\", \"EY\"}"
   ]
  },
  {
   "cell_type": "code",
   "execution_count": 72,
   "metadata": {},
   "outputs": [
    {
     "data": {
      "text/plain": [
       "{1, 2, 3, 4, 5}"
      ]
     },
     "execution_count": 72,
     "metadata": {},
     "output_type": "execute_result"
    }
   ],
   "source": [
    "S11.difference(S12)"
   ]
  },
  {
   "cell_type": "code",
   "execution_count": 73,
   "metadata": {},
   "outputs": [
    {
     "data": {
      "text/plain": [
       "{'Apple', 'Barclays'}"
      ]
     },
     "execution_count": 73,
     "metadata": {},
     "output_type": "execute_result"
    }
   ],
   "source": [
    "S13.difference(S14)"
   ]
  },
  {
   "cell_type": "markdown",
   "metadata": {},
   "source": [
    "### difference_update():\n",
    "\n",
    "Update a set with the result of difference of two sets."
   ]
  },
  {
   "cell_type": "code",
   "execution_count": 74,
   "metadata": {},
   "outputs": [
    {
     "name": "stdout",
     "output_type": "stream",
     "text": [
      "{1, 2, 3, 4, 5}\n"
     ]
    }
   ],
   "source": [
    "S11.difference_update(S12)\n",
    "print(S11)"
   ]
  },
  {
   "cell_type": "code",
   "execution_count": 75,
   "metadata": {},
   "outputs": [
    {
     "name": "stdout",
     "output_type": "stream",
     "text": [
      "{'Barclays', 'Apple'}\n"
     ]
    }
   ],
   "source": [
    "S13.difference_update(S14)\n",
    "print(S13)"
   ]
  },
  {
   "cell_type": "markdown",
   "metadata": {},
   "source": [
    "### symmetric_difference():\n",
    "\n",
    "Returns elements that are in either of the sets, but not in both."
   ]
  },
  {
   "cell_type": "code",
   "execution_count": 81,
   "metadata": {},
   "outputs": [],
   "source": [
    "S11 = {1,2,3,4,5}\n",
    "S12 = {6,7,8,9,10}\n",
    "\n",
    "S13 = {\"Apple\", \"Barclays\", \"Cisco\"}\n",
    "S14 = {\"Cisco\", \"Diamler\", \"EY\"}"
   ]
  },
  {
   "cell_type": "code",
   "execution_count": 82,
   "metadata": {},
   "outputs": [
    {
     "data": {
      "text/plain": [
       "{1, 2, 3, 4, 5, 6, 7, 8, 9, 10}"
      ]
     },
     "execution_count": 82,
     "metadata": {},
     "output_type": "execute_result"
    }
   ],
   "source": [
    "S11.symmetric_difference(S12)"
   ]
  },
  {
   "cell_type": "code",
   "execution_count": 83,
   "metadata": {},
   "outputs": [
    {
     "data": {
      "text/plain": [
       "{'Apple', 'Barclays', 'Diamler', 'EY'}"
      ]
     },
     "execution_count": 83,
     "metadata": {},
     "output_type": "execute_result"
    }
   ],
   "source": [
    "S13.symmetric_difference(S14)"
   ]
  },
  {
   "cell_type": "markdown",
   "metadata": {},
   "source": [
    "### symmetric_difference_update():\n",
    "\n",
    "Update a set with the result of symmetric_difference of two sets."
   ]
  },
  {
   "cell_type": "code",
   "execution_count": 84,
   "metadata": {},
   "outputs": [
    {
     "data": {
      "text/plain": [
       "{1, 2, 3, 4, 5, 6, 7, 8, 9, 10}"
      ]
     },
     "execution_count": 84,
     "metadata": {},
     "output_type": "execute_result"
    }
   ],
   "source": [
    "S11.symmetric_difference_update(S12)\n",
    "S11"
   ]
  },
  {
   "cell_type": "code",
   "execution_count": 85,
   "metadata": {},
   "outputs": [
    {
     "data": {
      "text/plain": [
       "{'Apple', 'Barclays', 'Diamler', 'EY'}"
      ]
     },
     "execution_count": 85,
     "metadata": {},
     "output_type": "execute_result"
    }
   ],
   "source": [
    "S13.symmetric_difference_update(S14)\n",
    "S13"
   ]
  },
  {
   "cell_type": "markdown",
   "metadata": {},
   "source": [
    "### issubset():\n",
    "\n",
    "Checks if all elements of the first set are in the second set."
   ]
  },
  {
   "cell_type": "code",
   "execution_count": 86,
   "metadata": {},
   "outputs": [],
   "source": [
    "S11 = {1,2,3,4,5}\n",
    "S12 = {1,2,3}\n",
    "\n",
    "S13 = {\"Apple\", \"Barclays\", \"Cisco\"}\n",
    "S14 = {\"Apple\", \"Barclays\"}"
   ]
  },
  {
   "cell_type": "code",
   "execution_count": 87,
   "metadata": {},
   "outputs": [
    {
     "data": {
      "text/plain": [
       "False"
      ]
     },
     "execution_count": 87,
     "metadata": {},
     "output_type": "execute_result"
    }
   ],
   "source": [
    "S11.issubset(S12)"
   ]
  },
  {
   "cell_type": "code",
   "execution_count": 88,
   "metadata": {},
   "outputs": [
    {
     "data": {
      "text/plain": [
       "True"
      ]
     },
     "execution_count": 88,
     "metadata": {},
     "output_type": "execute_result"
    }
   ],
   "source": [
    "S12.issubset(S11)"
   ]
  },
  {
   "cell_type": "code",
   "execution_count": 89,
   "metadata": {},
   "outputs": [
    {
     "data": {
      "text/plain": [
       "False"
      ]
     },
     "execution_count": 89,
     "metadata": {},
     "output_type": "execute_result"
    }
   ],
   "source": [
    "S13.issubset(S14)"
   ]
  },
  {
   "cell_type": "code",
   "execution_count": 90,
   "metadata": {},
   "outputs": [
    {
     "data": {
      "text/plain": [
       "True"
      ]
     },
     "execution_count": 90,
     "metadata": {},
     "output_type": "execute_result"
    }
   ],
   "source": [
    "S14.issubset(S13)"
   ]
  },
  {
   "cell_type": "markdown",
   "metadata": {},
   "source": [
    "### issuperset():\n",
    "\n",
    "Checks if the first contains all elements of the second set."
   ]
  },
  {
   "cell_type": "code",
   "execution_count": 91,
   "metadata": {},
   "outputs": [
    {
     "data": {
      "text/plain": [
       "True"
      ]
     },
     "execution_count": 91,
     "metadata": {},
     "output_type": "execute_result"
    }
   ],
   "source": [
    "S11.issuperset(S12)"
   ]
  },
  {
   "cell_type": "code",
   "execution_count": 92,
   "metadata": {},
   "outputs": [
    {
     "data": {
      "text/plain": [
       "False"
      ]
     },
     "execution_count": 92,
     "metadata": {},
     "output_type": "execute_result"
    }
   ],
   "source": [
    "S12.issuperset(S11)"
   ]
  },
  {
   "cell_type": "code",
   "execution_count": 93,
   "metadata": {},
   "outputs": [
    {
     "data": {
      "text/plain": [
       "True"
      ]
     },
     "execution_count": 93,
     "metadata": {},
     "output_type": "execute_result"
    }
   ],
   "source": [
    "S13.issuperset(S14)"
   ]
  },
  {
   "cell_type": "code",
   "execution_count": 94,
   "metadata": {},
   "outputs": [
    {
     "data": {
      "text/plain": [
       "False"
      ]
     },
     "execution_count": 94,
     "metadata": {},
     "output_type": "execute_result"
    }
   ],
   "source": [
    "S14.issuperset(S13)"
   ]
  },
  {
   "cell_type": "markdown",
   "metadata": {},
   "source": [
    "### isdisjoint():\n",
    "\n",
    "Checks if two sets have no elements in common."
   ]
  },
  {
   "cell_type": "code",
   "execution_count": 98,
   "metadata": {},
   "outputs": [],
   "source": [
    "S15 = {1,2,3,4,5}\n",
    "S16 = {6,7,8,9,10}\n",
    "\n",
    "S17 = {\"Apple\", \"Barclays\", \"Cisco\"}\n",
    "S18 = {\"Cummins\", \"Diamler\", \"EY\"}"
   ]
  },
  {
   "cell_type": "code",
   "execution_count": 99,
   "metadata": {},
   "outputs": [
    {
     "data": {
      "text/plain": [
       "True"
      ]
     },
     "execution_count": 99,
     "metadata": {},
     "output_type": "execute_result"
    }
   ],
   "source": [
    "S15.isdisjoint(S16)"
   ]
  },
  {
   "cell_type": "code",
   "execution_count": 100,
   "metadata": {},
   "outputs": [
    {
     "data": {
      "text/plain": [
       "True"
      ]
     },
     "execution_count": 100,
     "metadata": {},
     "output_type": "execute_result"
    }
   ],
   "source": [
    "S17.isdisjoint(S18)"
   ]
  },
  {
   "cell_type": "code",
   "execution_count": 101,
   "metadata": {},
   "outputs": [
    {
     "data": {
      "text/plain": [
       "False"
      ]
     },
     "execution_count": 101,
     "metadata": {},
     "output_type": "execute_result"
    }
   ],
   "source": [
    "S11.isdisjoint(S12)"
   ]
  },
  {
   "cell_type": "code",
   "execution_count": 102,
   "metadata": {},
   "outputs": [
    {
     "data": {
      "text/plain": [
       "False"
      ]
     },
     "execution_count": 102,
     "metadata": {},
     "output_type": "execute_result"
    }
   ],
   "source": [
    "S13.isdisjoint(S14)"
   ]
  },
  {
   "cell_type": "markdown",
   "metadata": {},
   "source": [
    "### Set Operations: Other useful methods"
   ]
  },
  {
   "cell_type": "markdown",
   "metadata": {},
   "source": [
    "### copy(): "
   ]
  },
  {
   "cell_type": "code",
   "execution_count": 108,
   "metadata": {},
   "outputs": [],
   "source": [
    "S14 = {1,2,3,4,5}\n",
    "S15 = {\"Apple\", \"Banana\", \"Cherry\", \"Dragonfruit\", \"Eggfruit\"}"
   ]
  },
  {
   "cell_type": "markdown",
   "metadata": {},
   "source": [
    "##### Shalow Copy example:\n",
    "\n",
    "• Shalow copy is like shadow of tree. If we made changes in orginal set, same will appear in copied set.\n",
    "\n",
    "• Copies the outer object, but nested objects are still references to the original nested objects.\n",
    "\n"
   ]
  },
  {
   "cell_type": "code",
   "execution_count": 109,
   "metadata": {},
   "outputs": [
    {
     "name": "stdout",
     "output_type": "stream",
     "text": [
      "Original set: {1, 2, 4, 5}\n",
      "Copied set: {1, 2, 4, 5}\n"
     ]
    }
   ],
   "source": [
    "S16 = S14\n",
    "\n",
    "S16.remove(3)\n",
    "\n",
    "print(f\"Original set: {S14}\")\n",
    "print(f\"Copied set: {S16}\")"
   ]
  },
  {
   "cell_type": "code",
   "execution_count": 110,
   "metadata": {},
   "outputs": [
    {
     "name": "stdout",
     "output_type": "stream",
     "text": [
      "Original set: {'Banana', 'Cherry', 'Apple', 'Dragonfruit'}\n",
      "Copied set: {'Banana', 'Cherry', 'Apple', 'Dragonfruit'}\n"
     ]
    }
   ],
   "source": [
    "S17 = S15\n",
    "\n",
    "S17.remove(\"Eggfruit\")\n",
    "\n",
    "print(f\"Original set: {S15}\")\n",
    "print(f\"Copied set: {S17}\")"
   ]
  },
  {
   "cell_type": "markdown",
   "metadata": {},
   "source": [
    "##### Deep Copy example:\n",
    "\n",
    "• Changes made in Copied set will not reflect in Original set.\n",
    "\n",
    "• Copies both the outer object and all nested objects, so the new object is entirely independent of the original."
   ]
  },
  {
   "cell_type": "code",
   "execution_count": 111,
   "metadata": {},
   "outputs": [
    {
     "name": "stdout",
     "output_type": "stream",
     "text": [
      "Original set: {1, 2, 4, 5}\n",
      "Copied set: {2, 4, 5}\n"
     ]
    }
   ],
   "source": [
    "import copy\n",
    "\n",
    "S18 = S14.copy()\n",
    "\n",
    "S18.pop()\n",
    "\n",
    "print(f\"Original set: {S14}\")\n",
    "print(f\"Copied set: {S18}\")"
   ]
  },
  {
   "cell_type": "code",
   "execution_count": 112,
   "metadata": {},
   "outputs": [
    {
     "name": "stdout",
     "output_type": "stream",
     "text": [
      "Original set: {'Banana', 'Cherry', 'Apple', 'Dragonfruit'}\n",
      "Copied set: {'Banana', 'Cherry', 'Apple'}\n"
     ]
    }
   ],
   "source": [
    "import copy \n",
    "\n",
    "S19 = S15.copy()\n",
    "\n",
    "S19.pop()\n",
    "\n",
    "print(f\"Original set: {S15}\")\n",
    "print(f\"Copied set: {S19}\")"
   ]
  },
  {
   "cell_type": "markdown",
   "metadata": {},
   "source": [
    "### len():\n",
    "\n",
    "Returns the number of elements in the set."
   ]
  },
  {
   "cell_type": "code",
   "execution_count": 113,
   "metadata": {},
   "outputs": [
    {
     "data": {
      "text/plain": [
       "5"
      ]
     },
     "execution_count": 113,
     "metadata": {},
     "output_type": "execute_result"
    }
   ],
   "source": [
    "len(S11)"
   ]
  },
  {
   "cell_type": "code",
   "execution_count": 114,
   "metadata": {},
   "outputs": [
    {
     "data": {
      "text/plain": [
       "5"
      ]
     },
     "execution_count": 114,
     "metadata": {},
     "output_type": "execute_result"
    }
   ],
   "source": [
    "S11.__len__()"
   ]
  },
  {
   "cell_type": "markdown",
   "metadata": {},
   "source": [
    "# Important Questions asked in the Interview based on Python Set"
   ]
  },
  {
   "cell_type": "markdown",
   "metadata": {},
   "source": [
    "### 1. How to delete duplicate elements from python list?"
   ]
  },
  {
   "cell_type": "code",
   "execution_count": 117,
   "metadata": {},
   "outputs": [
    {
     "data": {
      "text/plain": [
       "{0, 1, 2, 3, 4, 5, 6, 7, 8, 9}"
      ]
     },
     "execution_count": 117,
     "metadata": {},
     "output_type": "execute_result"
    }
   ],
   "source": [
    "# suppose we have list [1,2,2,3,4,5,4,5,2,3,6,7,0,4,5,6,7,8,4,5,7,8,9]\n",
    "\n",
    "lst = [1,2,2,3,4,5,4,5,2,3,6,7,0,4,5,6,7,8,4,5,7,8,9]\n",
    "\n",
    "new = set(lst)\n",
    "\n",
    "new"
   ]
  },
  {
   "cell_type": "markdown",
   "metadata": {},
   "source": [
    "### 2. Suppose I have set S = {1,2,2,3,3,3,4,4,4,4,5,5,5,5,5} and if i want to remove 3 how will i remove it and what will be my output?"
   ]
  },
  {
   "cell_type": "code",
   "execution_count": 120,
   "metadata": {},
   "outputs": [
    {
     "data": {
      "text/plain": [
       "{1, 2, 4, 5}"
      ]
     },
     "execution_count": 120,
     "metadata": {},
     "output_type": "execute_result"
    }
   ],
   "source": [
    "S = {1,2,2,3,3,3,4,4,4,4,5,5,5,5,5}\n",
    "\n",
    "new = set(S)\n",
    "\n",
    "new.remove(3)\n",
    "\n",
    "new"
   ]
  }
 ],
 "metadata": {
  "kernelspec": {
   "display_name": "python_ipynb",
   "language": "python",
   "name": "python3"
  },
  "language_info": {
   "codemirror_mode": {
    "name": "ipython",
    "version": 3
   },
   "file_extension": ".py",
   "mimetype": "text/x-python",
   "name": "python",
   "nbconvert_exporter": "python",
   "pygments_lexer": "ipython3",
   "version": "3.12.1"
  }
 },
 "nbformat": 4,
 "nbformat_minor": 2
}
